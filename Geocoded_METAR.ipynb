{
 "metadata": {
  "name": "",
  "signature": "sha256:248c74a431528511517f3e34b611dd26c33ab37dbcc8d4dcd862317b4d1c25e2"
 },
 "nbformat": 3,
 "nbformat_minor": 0,
 "worksheets": [
  {
   "cells": [
    {
     "cell_type": "markdown",
     "metadata": {},
     "source": [
      "#Using the Google Geocoding API to geolocate METAR data"
     ]
    },
    {
     "cell_type": "markdown",
     "metadata": {},
     "source": [
      "##What is Geocoding?\n",
      "\n",
      "- Translate physical addresses to geographic coordinates\n",
      "- Access via a web services call\n",
      "- Returns either XML or JSON formatted data\n",
      "- [https://developers.google.com/maps/documentation/geocoding/](https://developers.google.com/maps/documentation/geocoding/)\n",
      "    \n",
      "##What is METAR?\n",
      "\n",
      "- Surface observational data\n",
      "- Access via a URL constructed from a web form\n",
      "- Returns csv, xml, or NetCDF formatted data\n",
      "- [http://thredds.ucar.edu/thredds/catalog/nws/metar/ncdecoded/catalog.html?dataset=nws/metar/ncdecoded/Metar_Station_Data_fc.cdmr](http://thredds.ucar.edu/thredds/catalog/nws/metar/ncdecoded/catalog.html?dataset=nws/metar/ncdecoded/Metar_Station_Data_fc.cdmr)"
     ]
    },
    {
     "cell_type": "markdown",
     "metadata": {},
     "source": [
      "##Import useful libraries that (other) people have written\n",
      "\n",
      "We need a library to understand URLs and XML documents.  If we want to make some nice plots of our data, we need a library for that, too."
     ]
    },
    {
     "cell_type": "code",
     "collapsed": false,
     "input": [
      "%matplotlib inline\n",
      "\n",
      "import urllib\n",
      "import cartopy\n",
      "\n",
      "import datetime as dt\n",
      "import numpy as np\n",
      "from matplotlib import pyplot as plt\n",
      "import xml.etree.ElementTree as ET"
     ],
     "language": "python",
     "metadata": {},
     "outputs": [],
     "prompt_number": 1
    },
    {
     "cell_type": "markdown",
     "metadata": {},
     "source": [
      "##Manage the Google API using web documentation"
     ]
    },
    {
     "cell_type": "code",
     "collapsed": false,
     "input": [
      "gcBaseURL='http://maps.googleapis.com/maps/api/geocode/xml?'"
     ],
     "language": "python",
     "metadata": {},
     "outputs": [],
     "prompt_number": 2
    },
    {
     "cell_type": "markdown",
     "metadata": {},
     "source": [
      "##Populate an address in human readable form"
     ]
    },
    {
     "cell_type": "code",
     "collapsed": false,
     "input": [
      "address = '7208 toulon dr ne, albuquerque, nm'\n",
      "#address = '3300 Mitchell Lane, Boulder, CO'\n",
      "#address = 'South Pole'\n",
      "#address = '1817 Pineapple Ave., Melbourne, FL'\n",
      "#address = '708 N. Harvard Ave., Ventnor Heights, NJ'\n",
      "print address"
     ],
     "language": "python",
     "metadata": {},
     "outputs": [
      {
       "output_type": "stream",
       "stream": "stdout",
       "text": [
        "7208 toulon dr ne, albuquerque, nm\n"
       ]
      }
     ],
     "prompt_number": 3
    },
    {
     "cell_type": "markdown",
     "metadata": {},
     "source": [
      "##Our address needs to look more like what the Google API expects\n",
      "\n",
      "- No spaces in the address\n",
      "- Simple string manipulation\n"
     ]
    },
    {
     "cell_type": "code",
     "collapsed": false,
     "input": [
      "address = address.replace(' ','+')\n",
      "print address"
     ],
     "language": "python",
     "metadata": {},
     "outputs": [
      {
       "output_type": "stream",
       "stream": "stdout",
       "text": [
        "7208+toulon+dr+ne,+albuquerque,+nm\n"
       ]
      }
     ],
     "prompt_number": 4
    },
    {
     "cell_type": "markdown",
     "metadata": {},
     "source": [
      "##Now let's construct the URL\n",
      "\n",
      "- Set up the sensor component\n",
      "- Assemble the URL\n",
      "- Do a sanity check"
     ]
    },
    {
     "cell_type": "code",
     "collapsed": false,
     "input": [
      "gcParameters='address=' + address + '&sensor=false'\n",
      "gcURL = gcBaseURL + gcParameters\n",
      "print gcURL"
     ],
     "language": "python",
     "metadata": {},
     "outputs": [
      {
       "output_type": "stream",
       "stream": "stdout",
       "text": [
        "http://maps.googleapis.com/maps/api/geocode/xml?address=7208+toulon+dr+ne,+albuquerque,+nm&sensor=false\n"
       ]
      }
     ],
     "prompt_number": 7
    },
    {
     "cell_type": "markdown",
     "metadata": {},
     "source": [
      "#What was that?\n",
      "\n",
      "- Back to our libraries to decode the XML\n",
      "- \"Walk the DOM\" to get to lat and lon\n",
      "- http://en.wikipedia.org/wiki/Document_Object_Model"
     ]
    },
    {
     "cell_type": "code",
     "collapsed": false,
     "input": [
      "tree = ET.parse(urllib.urlopen(gcURL))\n",
      "root = tree.getroot()\n",
      "\n",
      "for result in root.findall('result'):\n",
      "    for geometry in result.findall('geometry'):\n",
      "        for location in geometry.findall('location'):\n",
      "            lat = location.find('lat').text\n",
      "            lon = location.find('lng').text\n",
      "        \n",
      "print '[lat, lon] = [' + lat + ', ' + lon + ']'"
     ],
     "language": "python",
     "metadata": {},
     "outputs": [
      {
       "output_type": "stream",
       "stream": "stdout",
       "text": [
        "[lat, lon] = [35.1620760, -106.5312880]\n"
       ]
      }
     ],
     "prompt_number": 8
    },
    {
     "cell_type": "markdown",
     "metadata": {},
     "source": [
      "##Now we need to construct a URL based on the netCDF Subset Service form submission...the hard way"
     ]
    },
    {
     "cell_type": "code",
     "collapsed": false,
     "input": [
      "varkeys = ['req', 'variables', 'var','var','var','var', 'latitude', 'longitude', 'spatial', 'temporal', 'time', 'accept']\n",
      "print varkeys"
     ],
     "language": "python",
     "metadata": {},
     "outputs": [
      {
       "output_type": "stream",
       "stream": "stdout",
       "text": [
        "['req', 'variables', 'var', 'var', 'var', 'var', 'latitude', 'longitude', 'spatial', 'temporal', 'time', 'accept']\n"
       ]
      }
     ],
     "prompt_number": 9
    },
    {
     "cell_type": "markdown",
     "metadata": {},
     "source": [
      "## Wait, where do these come from?!?\n",
      "\n",
      "http://www.unidata.ucar.edu/software/thredds/current/tds/reference/NetcdfSubsetServiceReference.html\n",
      "\n",
      "Oh, ok...now what? Let's attach values to these keys!"
     ]
    },
    {
     "cell_type": "code",
     "collapsed": false,
     "input": [
      "varvals = ['data', 'some', 'air_pressure_at_sea_level','air_temperature','wind_from_direction','wind_speed',lat,lon,'point','point','2014-10-17T01%3A55%3A00Z','csv']\n",
      "print varvals"
     ],
     "language": "python",
     "metadata": {},
     "outputs": [
      {
       "output_type": "stream",
       "stream": "stdout",
       "text": [
        "['data', 'some', 'air_pressure_at_sea_level', 'air_temperature', 'wind_from_direction', 'wind_speed', '35.1620760', '-106.5312880', 'point', 'point', '2014-10-17T01%3A55%3A00Z', 'csv']\n"
       ]
      }
     ],
     "prompt_number": 11
    },
    {
     "cell_type": "code",
     "collapsed": false,
     "input": [
      "varreqs = []\n",
      "for i in range(len(varkeys)):\n",
      "    varreqs.append(varkeys[i] + '=' + varvals[i])\n",
      "print varreqs"
     ],
     "language": "python",
     "metadata": {},
     "outputs": [
      {
       "output_type": "stream",
       "stream": "stdout",
       "text": [
        "['req=data', 'variables=some', 'var=air_pressure_at_sea_level', 'var=air_temperature', 'var=wind_from_direction', 'var=wind_speed', 'latitude=35.1620760', 'longitude=-106.5312880', 'spatial=point', 'temporal=point', 'time=2014-10-17T01%3A55%3A00Z', 'accept=csv']\n"
       ]
      }
     ],
     "prompt_number": 12
    },
    {
     "cell_type": "markdown",
     "metadata": {},
     "source": [
      "##Let's put all of the form requests together\n",
      "- We need an '&' between each argument\n",
      "- We need to get rid of the trailing '&'"
     ]
    },
    {
     "cell_type": "code",
     "collapsed": false,
     "input": [
      "querystr = ''\n",
      "for varreq in varreqs:\n",
      "    querystr += varreq + '&'\n",
      "print querystr"
     ],
     "language": "python",
     "metadata": {},
     "outputs": [
      {
       "output_type": "stream",
       "stream": "stdout",
       "text": [
        "req=data&variables=some&var=air_pressure_at_sea_level&var=air_temperature&var=wind_from_direction&var=wind_speed&latitude=35.1620760&longitude=-106.5312880&spatial=point&temporal=point&time=2014-10-17T01%3A55%3A00Z&accept=csv&\n"
       ]
      }
     ],
     "prompt_number": 13
    },
    {
     "cell_type": "code",
     "collapsed": false,
     "input": [
      "if querystr[-1] == '&':\n",
      "    querystr = querystr[0:-1]\n",
      "print querystr"
     ],
     "language": "python",
     "metadata": {},
     "outputs": [
      {
       "output_type": "stream",
       "stream": "stdout",
       "text": [
        "req=data&variables=some&var=air_pressure_at_sea_level&var=air_temperature&var=wind_from_direction&var=wind_speed&latitude=35.1620760&longitude=-106.5312880&spatial=point&temporal=point&time=2014-10-17T01%3A55%3A00Z&accept=csv\n"
       ]
      }
     ],
     "prompt_number": 14
    },
    {
     "cell_type": "markdown",
     "metadata": {},
     "source": [
      "##Even though the negative indexing is neat, there's a better way to join a list in the way we want"
     ]
    },
    {
     "cell_type": "code",
     "collapsed": false,
     "input": [
      "querystr = \"&\".join(varreqs)\n",
      "print querystr"
     ],
     "language": "python",
     "metadata": {},
     "outputs": [
      {
       "output_type": "stream",
       "stream": "stdout",
       "text": [
        "req=data&variables=some&var=air_pressure_at_sea_level&var=air_temperature&var=wind_from_direction&var=wind_speed&latitude=35.1620760&longitude=-106.5312880&spatial=point&temporal=point&time=2014-10-17T01%3A55%3A00Z&accept=csv\n"
       ]
      }
     ],
     "prompt_number": 15
    },
    {
     "cell_type": "markdown",
     "metadata": {},
     "source": [
      "##Ok, let's create a request builder function"
     ]
    },
    {
     "cell_type": "code",
     "collapsed": false,
     "input": [
      "def pointRequest(bb = None, lat = None, lon = None, variables = ['air_temperature', 'air_pressure_at_sea_level'], \n",
      "                 startTime = None, endTime = None, accept=\"csv\"):\n",
      "    '''\n",
      "    lat : float\n",
      "        latitude\n",
      "    lon : float\n",
      "        longitude\n",
      "    bb : dictionairy\n",
      "        dictionairy with keys \"north\", \"south\", \"east\", and \"west\"\n",
      "        that describes a geographical bounding box\n",
      "    variables : list of strings\n",
      "        desired variables from the station closest to lat, lon\n",
      "    startTime : datetime object\n",
      "        desired time of observation window,\n",
      "    endTime : datetime object\n",
      "        desired end of observation window. If not specified, return ob closest to startTime.\n",
      "    accept : string\n",
      "        format in which the data are returned [csv, xml, netCDF, or netCDF4]\n",
      "    '''\n",
      "\n",
      "    start = startTime.isoformat() #2014-10-17T01%3A55%3A00Z\n",
      "         \n",
      "    reqVars = []\n",
      "    for var in variables:\n",
      "        reqVars.append('var' + '=' + var)\n",
      "\n",
      "    if (not lat is None) and (not lon is None):\n",
      "        reqVars.append('latitude=' + str(lat))\n",
      "        reqVars.append('longitude=' + str(lon))\n",
      "    elif not bb is None:\n",
      "        reqVars.append('north=' + str(bb['north']))\n",
      "        reqVars.append('east=' + str(bb['east']))\n",
      "        reqVars.append('south=' + str(bb['south']))\n",
      "        reqVars.append('west=' + str(bb['west']))\n",
      "    else:\n",
      "        print(\"Error - must supply either a latitude and longitude, or a bounding box\")\n",
      "        return \"\"\n",
      "    \n",
      "    if endTime is None:\n",
      "        reqVars.append('time=' + start)\n",
      "    else:\n",
      "        stop = endTime.isoformat()\n",
      "        reqVars.append('time_start=' + start)\n",
      "        reqVars.append('time_end=' + stop)\n",
      "\n",
      "    reqVars.append('accept=' + accept)    \n",
      "\n",
      "    reqVars = '&'.join(reqVars)\n",
      "    \n",
      "    return reqVars\n",
      "\n",
      "print pointRequest(lat = 10, lon = 10,startTime=dt.datetime(2014,1,1), endTime=dt.datetime(2014,1,1))"
     ],
     "language": "python",
     "metadata": {},
     "outputs": [
      {
       "output_type": "stream",
       "stream": "stdout",
       "text": [
        "var=air_temperature&var=air_pressure_at_sea_level&latitude=10&longitude=10&time_start=2014-01-01T00:00:00&time_end=2014-01-01T00:00:00&accept=csv\n"
       ]
      }
     ],
     "prompt_number": 16
    },
    {
     "cell_type": "markdown",
     "metadata": {},
     "source": [
      "##Construct our request to the TDS using the expected base URL and our query string"
     ]
    },
    {
     "cell_type": "code",
     "collapsed": false,
     "input": [
      "lat, lon"
     ],
     "language": "python",
     "metadata": {},
     "outputs": [
      {
       "metadata": {},
       "output_type": "pyout",
       "prompt_number": 17,
       "text": [
        "('35.1620760', '-106.5312880')"
       ]
      }
     ],
     "prompt_number": 17
    },
    {
     "cell_type": "code",
     "collapsed": false,
     "input": [
      "baseurl = 'http://thredds.ucar.edu/thredds/ncss/nws/metar/ncdecoded/Metar_Station_Data_fc.cdmr?'\n",
      "querystr2 = pointRequest(lat=lat, lon=lon, startTime = dt.datetime(2014, 10, 17))\n",
      "url = baseurl + querystr2\n",
      "print url"
     ],
     "language": "python",
     "metadata": {},
     "outputs": [
      {
       "output_type": "stream",
       "stream": "stdout",
       "text": [
        "http://thredds.ucar.edu/thredds/ncss/nws/metar/ncdecoded/Metar_Station_Data_fc.cdmr?var=air_temperature&var=air_pressure_at_sea_level&latitude=35.1620760&longitude=-106.5312880&time=2014-10-17T00:00:00&accept=csv\n"
       ]
      }
     ],
     "prompt_number": 21
    },
    {
     "cell_type": "markdown",
     "metadata": {},
     "source": [
      "##Hit the URL and parse the data!"
     ]
    },
    {
     "cell_type": "code",
     "collapsed": false,
     "input": [
      "output = urllib.urlopen(url)\n",
      "lines = output.readlines()\n",
      "if len(lines) < 2:\n",
      "    print 'Only one line in output suggests no data was returned!'\n",
      "else:\n",
      "    names = lines[0].split(',')\n",
      "    vals = lines[1].split(',')\n",
      "    for i in range(0,len(names)):\n",
      "        print names[i] + ' : ' + vals[i]"
     ],
     "language": "python",
     "metadata": {},
     "outputs": [
      {
       "output_type": "stream",
       "stream": "stdout",
       "text": [
        "time : 2014-10-16 23:52:00Z\n",
        "station : ABQ\n",
        "latitude[unit=\"degrees_north\"] : 35.049\n",
        "longitude[unit=\"degrees_east\"] : -106.620\n",
        "air_temperature[unit=\"Celsius\"] : 25.0\n",
        "air_pressure_at_sea_level[unit=\"hectoPascal\"]\n",
        " : 1011.4\n",
        "\n"
       ]
      }
     ],
     "prompt_number": 22
    },
    {
     "cell_type": "markdown",
     "metadata": {},
     "source": [
      "\n",
      "##Now for the obligatory time series..."
     ]
    },
    {
     "cell_type": "code",
     "collapsed": false,
     "input": [
      "# 24 hour time series starting on the following date:\n",
      "dateStart = dt.datetime(2014,10,17, 0, 0, 0)\n",
      "dateEnd = dateStart + dt.timedelta(days=1)\n",
      "\n",
      "querystr = pointRequest(lat=lat, lon=lon, startTime = dateStart, endTime = dateEnd)\n",
      "url = baseurl + querystr\n",
      "output = urllib.urlopen(url)\n",
      "\n",
      "t_air = []\n",
      "time = []\n",
      "data = output.readlines()\n",
      "for line in data[1:]:\n",
      "    vals = line.split(\",\")\n",
      "    #print vals\n",
      "    t_air.append(float(vals[4]))\n",
      "    time.append(dt.datetime.strptime(vals[0], \"%Y-%m-%d %H:%M:%SZ\"))\n",
      "station = vals[1]\n",
      "\n",
      "t_air_label = data[0].split(',')[4]\n",
      "print url"
     ],
     "language": "python",
     "metadata": {},
     "outputs": [
      {
       "output_type": "stream",
       "stream": "stdout",
       "text": [
        "http://thredds.ucar.edu/thredds/ncss/nws/metar/ncdecoded/Metar_Station_Data_fc.cdmr?var=air_temperature&var=air_pressure_at_sea_level&latitude=35.1620760&longitude=-106.5312880&time_start=2014-10-17T00:00:00&time_end=2014-10-18T00:00:00&accept=csv\n"
       ]
      }
     ],
     "prompt_number": 23
    },
    {
     "cell_type": "code",
     "collapsed": false,
     "input": [
      "from matplotlib.dates import HourLocator,DateFormatter, AutoDateLocator\n",
      "fig = plt.figure()\n",
      "ax1 = fig.add_subplot(1,1,1)\n",
      "ax1.plot(time, t_air)\n",
      "\n",
      "locator = AutoDateLocator()\n",
      "hoursFmt = DateFormatter('%H')\n",
      "\n",
      "ax1.xaxis.set_major_locator(locator)\n",
      "ax1.xaxis.set_major_formatter(hoursFmt)\n",
      "ax1.autoscale_view()\n",
      "ax1.set_title('Site: {}      Date: {}'.format(station, time[0].strftime('%Y/%m/%d')))\n",
      "ax1.set_xlabel('Hour of day')\n",
      "ax1.set_ylabel(t_air_label)\n",
      "fig.autofmt_xdate()\n",
      "plt.show()"
     ],
     "language": "python",
     "metadata": {},
     "outputs": [
      {
       "metadata": {},
       "output_type": "display_data",
       "png": "[encoded data removed]",
       "text": [
        "<matplotlib.figure.Figure at 0x7f00dd7bd790>"
       ]
      }
     ],
     "prompt_number": 26
    },
    {
     "cell_type": "markdown",
     "metadata": {},
     "source": [
      "## Now, let's request all stations within a bounding box for a given time and create a surface station plot map"
     ]
    },
    {
     "cell_type": "code",
     "collapsed": false,
     "input": [
      "variables = ['air_temperature', 'dew_point_temperature']\n",
      "bb = {'north' : 70,\n",
      "      'south' : 60,\n",
      "      'east' : -140,\n",
      "      'west' : -150}\n",
      "\n",
      "querystr = pointRequest(bb = bb, startTime=dt.datetime(2014,10,17, 12), variables = variables)\n",
      "\n",
      "url = baseurl + querystr\n",
      "output = urllib.urlopen(url)\n",
      "\n",
      "data = output.readlines()\n",
      "\n",
      "tair = []\n",
      "dewp = []\n",
      "lons = []\n",
      "lats = []\n",
      "station = []\n",
      "time = []\n",
      "for line in data[1:]:\n",
      "    vals = line.split(\",\")\n",
      "    #print vals\n",
      "    time.append(dt.datetime.strptime(vals[0], \"%Y-%m-%d %H:%M:%SZ\"))\n",
      "    station.append(vals[1])\n",
      "    lats.append(float(vals[2]))\n",
      "    lons.append(float(vals[3]))\n",
      "    tair.append(float(vals[4]))\n",
      "    dewp.append(float(vals[5]))\n",
      "    \n",
      "print time[0],station[0],t_air[0],dewp[0]\n",
      "lons = np.array(lons)\n",
      "lats = np.array(lats)\n",
      "tair = np.array(tair)\n",
      "dewp = np.array(dewp)"
     ],
     "language": "python",
     "metadata": {},
     "outputs": [
      {
       "output_type": "stream",
       "stream": "stdout",
       "text": [
        "2014-10-16 23:53:00 PAAQ 25.6 1.1\n"
       ]
      }
     ],
     "prompt_number": 33
    },
    {
     "cell_type": "code",
     "collapsed": false,
     "input": [
      "#\n",
      "# This code is to facilitate station plots of the data\n",
      "# Let's just skip over this\n",
      "#\n",
      "\n",
      "from matplotlib import rcParams\n",
      "from matplotlib.artist import Artist\n",
      "from matplotlib.cbook import is_string_like\n",
      "from matplotlib.text import Text\n",
      "from matplotlib.font_manager import FontProperties\n",
      "class TextCollection(Artist):\n",
      "    def __init__(self,\n",
      "                 x=0, y=0, text='',\n",
      "                 color=None,          # defaults to rc params\n",
      "                 verticalalignment='bottom',\n",
      "                 horizontalalignment='left',\n",
      "                 multialignment=None,\n",
      "                 fontproperties=None, # defaults to FontProperties()\n",
      "                 rotation=None,\n",
      "                 linespacing=None,\n",
      "                 **kwargs\n",
      "                 ):\n",
      "\n",
      "        Artist.__init__(self)\n",
      "        if color is None:\n",
      "            colors= rcParams['text.color']\n",
      "\n",
      "        if fontproperties is None:\n",
      "            fontproperties = FontProperties()\n",
      "        elif is_string_like(fontproperties):\n",
      "            fontproperties = FontProperties(fontproperties)\n",
      "\n",
      "        self._animated = False\n",
      "#        if is_string_like(text):\n",
      "#            text = [text]\n",
      "\n",
      "        self._textobjs = [Text(x[ind], y[ind], text[ind], color,\n",
      "            verticalalignment, horizontalalignment, multialignment,\n",
      "            fontproperties, rotation, linespacing, **kwargs)\n",
      "            for ind in xrange(len(x))]\n",
      "\n",
      "        self.update(kwargs)\n",
      "\n",
      "    def draw(self, renderer):\n",
      "        for t in self._textobjs:\n",
      "            t.draw(renderer)\n",
      "\n",
      "    def set_figure(self, fig):\n",
      "        for t in self._textobjs:\n",
      "            t.set_figure(fig)\n",
      "\n",
      "    def is_transform_set(self):\n",
      "        return all(t.is_transform_set() for t in self._textobjs)\n",
      "\n",
      "    def get_transform(self):\n",
      "        return self._textobjs[0].get_transform()\n",
      "\n",
      "    def set_transform(self, trans):\n",
      "        for t in self._textobjs:\n",
      "            t.set_transform(trans)\n",
      "\n",
      "    def set_clip_path(self, path):\n",
      "        for t in self._textobjs:\n",
      "            t.set_clip_path(path)\n",
      "\n",
      "    def set_axes(self, ax):\n",
      "        for t in self._textobjs:\n",
      "            t.set_axes(ax)\n",
      "\n",
      "def text_plot(ax, x, y, data, format='%.0f', loc=None, **kw):\n",
      "    from matplotlib.cbook import delete_masked_points\n",
      "    from matplotlib import transforms\n",
      "\n",
      "    # Default to centered on point\n",
      "    if 'transform' in kw:\n",
      "        t = kw.pop('transform')\n",
      "    else:\n",
      "        t = ax.projection\n",
      "\n",
      "    if loc is not None:\n",
      "        x0,y0 = loc\n",
      "        trans = t._as_mpl_transform(ax) + transforms.Affine2D().translate(x0, y0)\n",
      "    else:\n",
      "        trans = t._as_mpl_transform(ax)\n",
      "\n",
      "    # Handle both callables and strings for format\n",
      "    if is_string_like(format):\n",
      "        formatter = lambda s: format % s\n",
      "    else:\n",
      "        formatter = format\n",
      "\n",
      "    # Handle masked arrays\n",
      "    x,y,data = delete_masked_points(x, y, data)\n",
      "\n",
      "    # If there is nothing left after deleting the masked points, return None\n",
      "    if not data.any():\n",
      "        return None\n",
      "\n",
      "    # Make the TextCollection object\n",
      "    texts = [formatter(d) for d in data]\n",
      "    text_obj = TextCollection(x, y, texts, horizontalalignment='center',\n",
      "        verticalalignment='center', clip_on=True, transform=trans, **kw)\n",
      "#        verticalalignment='center', clip_on=True, **kw)\n",
      "\n",
      "    # Add it to the axes\n",
      "    ax.add_artist(text_obj)\n",
      "\n",
      "    # Update plot range\n",
      "    minx = np.min(x)\n",
      "    maxx = np.max(x)\n",
      "    miny = np.min(y)\n",
      "    maxy = np.max(y)\n",
      "    w = maxx - minx\n",
      "    h = maxy - miny\n",
      "\n",
      "    # the pad is a little hack to deal with the fact that we don't\n",
      "    # want to transform all the symbols whose scales are in points\n",
      "    # to data coords to get the exact bounding box for efficiency\n",
      "    # reasons.  It can be done right if this is deemed important\n",
      "    padx, pady = 0.05*w, 0.05*h\n",
      "    corners = (minx-padx, miny-pady), (maxx+padx, maxy+pady)\n",
      "    ax.update_datalim(corners)\n",
      "    ax.autoscale_view()\n",
      "    return text_obj"
     ],
     "language": "python",
     "metadata": {},
     "outputs": [],
     "prompt_number": 34
    },
    {
     "cell_type": "code",
     "collapsed": false,
     "input": [
      "# Create figure\n",
      "fig = plt.figure(figsize=(24,12))\n",
      "proj = cartopy.crs.Stereographic(central_longitude=-95, central_latitude=35)\n",
      "ax = fig.add_subplot(1, 1, 1, projection=proj)\n",
      "\n",
      "# Add map features\n",
      "ax.add_feature(cartopy.feature.LAND)\n",
      "ax.add_feature(cartopy.feature.NaturalEarthFeature(category='cultural', \n",
      "                                                   name='admin_1_states_provinces_lines',\n",
      "                                                   scale='50m',\n",
      "                                                   facecolor='none'))\n",
      "ax.add_feature(cartopy.feature.BORDERS)\n",
      "ax.coastlines()\n",
      "ax.gridlines()\n",
      "\n",
      "# Set extent to match requested bounding box\n",
      "ax.set_extent([bb['west'], bb['east'], bb['south'], bb['north']])\n",
      "\n",
      "# Using above helpers, plot air temperature and dewpoint as in a station plot\n",
      "text_plot(ax, lons, lats, np.array(tair), transform=cartopy.crs.PlateCarree(),\n",
      "          zorder=5, color='red', loc=(-10, 10))\n",
      "text_plot(ax, lons, lats, np.array(dewp), transform=cartopy.crs.PlateCarree(),\n",
      "          zorder=5, color='darkgreen', loc=(-10, -10))\n",
      "ax.text(-147, 64, \"X Fairbanks, AK\", transform=cartopy.crs.PlateCarree(), \n",
      "        zorder=6, fontsize=14, fontweight='bold', horizontalalignment=\"left\",\n",
      "        verticalalignment=\"bottom\")"
     ],
     "language": "python",
     "metadata": {},
     "outputs": [
      {
       "metadata": {},
       "output_type": "pyout",
       "prompt_number": 36,
       "text": [
        "<matplotlib.text.Text at 0x7f00d7f35450>"
       ]
      },
      {
       "metadata": {},
       "output_type": "display_data",
       "png": "[encoded data removed]",
       "text": [
        "<matplotlib.figure.Figure at 0x7f00d80504d0>"
       ]
      }
     ],
     "prompt_number": 36
    },
    {
     "cell_type": "code",
     "collapsed": false,
     "input": [],
     "language": "python",
     "metadata": {},
     "outputs": []
    }
   ],
   "metadata": {}
  }
 ]
}