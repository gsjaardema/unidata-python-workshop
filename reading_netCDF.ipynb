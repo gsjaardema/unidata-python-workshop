{
 "metadata": {
  "name": "",
<<<<<<< Updated upstream
  "signature": "sha256:856daa4b0d953b0393165b9e864f19eaddaf75b000399d6d36a17b13f304091d"
=======
  "signature": "sha256:b747ee0e69134c6b2e6a4535ecc9c45fdb75f2ccd52e93e6ce893fc3c49a8ec1"
>>>>>>> Stashed changes
 },
 "nbformat": 3,
 "nbformat_minor": 0,
 "worksheets": [
  {
   "cells": [
    {
     "cell_type": "markdown",
     "metadata": {
      "internals": {
       "slide_helper": "subslide_end",
       "slide_type": "subslide"
      },
      "slide_helper": "slide_end",
      "slideshow": {
       "slide_type": "slide"
      }
     },
     "source": [
      "# Reading netCDF data\n",
      "- requires [numpy](http://numpy.scipy.org) and netCDF/HDF5 C libraries.\n",
      "- Github site: https://github.com/Unidata/netcdf4-python\n",
      "- Online docs: http://unidata.github.io/netcdf4-python/\n",
      "- Based on Konrad Hinsen's old [Scientific.IO.NetCDF](http://dirac.cnrs-orleans.fr/plone/software/scientificpython/) API, with lots of added netcdf version 4 features.\n",
      "- Developed by Jeff Whitaker at NOAA, with many contributions from users."
     ]
    },
    {
     "cell_type": "markdown",
     "metadata": {
      "internals": {
       "slide_type": "subslide"
      },
      "slideshow": {
       "slide_type": "slide"
      }
     },
     "source": [
      "## Interactively exploring a netCDF File\n",
      "\n",
      "Let's explore a netCDF file from the *Atlantic Real-Time Ocean Forecast System*\n",
      "\n",
      "first, import netcdf4-python"
     ]
    },
    {
     "cell_type": "code",
     "collapsed": false,
     "input": [
      "import netCDF4"
     ],
     "language": "python",
     "metadata": {
      "internals": {
       "frag_number": 2,
       "slide_helper": "subslide_end"
      },
      "slide_helper": "slide_end",
      "slideshow": {
       "slide_type": "fragment"
      }
     },
     "outputs": [],
     "prompt_number": 2
    },
    {
     "cell_type": "markdown",
     "metadata": {
      "internals": {
       "frag_helper": "fragment_end",
       "frag_number": 2,
       "slide_type": "subslide"
      },
      "slideshow": {
       "slide_type": "slide"
      }
     },
     "source": [
      "## Create a netCDF4.Dataset object\n",
      "- **`f`** is a `Dataset` object, representing an open netCDF file.\n",
      "- printing the object gives you summary information, similar to *`ncdump -h`*."
     ]
    },
    {
     "cell_type": "code",
     "collapsed": false,
     "input": [
      "f = netCDF4.Dataset('data/rtofs_glo_3dz_f006_6hrly_reg3.nc')\n",
      "print f "
     ],
     "language": "python",
     "metadata": {
      "internals": {
       "frag_helper": "fragment_end",
       "frag_number": 4,
       "slide_helper": "subslide_end"
      },
      "slide_helper": "slide_end",
      "slideshow": {
       "slide_type": "fragment"
      }
     },
     "outputs": [
      {
       "output_type": "stream",
       "stream": "stdout",
       "text": [
        "<type 'netCDF4.Dataset'>\n",
        "root group (NETCDF4_CLASSIC data model, file format UNDEFINED):\n",
        "    Conventions: CF-1.0\n",
        "    title: HYCOM ATLb2.00\n",
        "    institution: National Centers for Environmental Prediction\n",
        "    source: HYCOM archive file\n",
        "    experiment: 90.9\n",
        "    history: archv2ncdf3z\n",
        "    dimensions(sizes): MT(1), Y(850), X(712), Depth(10)\n",
        "    variables(dimensions): float64 \u001b[4mMT\u001b[0m(MT), float64 \u001b[4mDate\u001b[0m(MT), float32 \u001b[4mDepth\u001b[0m(Depth), int32 \u001b[4mY\u001b[0m(Y), int32 \u001b[4mX\u001b[0m(X), float32 \u001b[4mLatitude\u001b[0m(Y,X), float32 \u001b[4mLongitude\u001b[0m(Y,X), float32 \u001b[4mu\u001b[0m(MT,Depth,Y,X), float32 \u001b[4mv\u001b[0m(MT,Depth,Y,X), float32 \u001b[4mtemperature\u001b[0m(MT,Depth,Y,X), float32 \u001b[4msalinity\u001b[0m(MT,Depth,Y,X)\n",
        "    groups: \n",
        "\n"
       ]
      }
     ],
     "prompt_number": 3
    },
    {
     "cell_type": "markdown",
     "metadata": {
      "internals": {
       "frag_helper": "fragment_end",
       "frag_number": 4,
       "slide_type": "subslide"
      },
      "slideshow": {
       "slide_type": "slide"
      }
     },
     "source": [
      "## Access a netCDF variable\n",
      "- variable objects stored by name in **`variables`** dict.\n",
      "- print the variable yields summary info (including all the attributes).\n",
      "- no actual data read yet (just have a reference to the variable object with metadata)."
     ]
    },
    {
     "cell_type": "code",
     "collapsed": false,
     "input": [
      "print f.variables.keys() # get all variable names\n",
      "temp = f.variables['temperature']  # temperature variable\n",
      "print temp "
     ],
     "language": "python",
     "metadata": {
      "internals": {
       "frag_helper": "fragment_end",
       "frag_number": 6,
       "slide_helper": "subslide_end"
      },
      "slide_helper": "slide_end",
      "slideshow": {
       "slide_type": "fragment"
      }
     },
     "outputs": [
      {
       "output_type": "stream",
       "stream": "stdout",
       "text": [
        "[u'MT', u'Date', u'Depth', u'Y', u'X', u'Latitude', u'Longitude', u'u', u'v', u'temperature', u'salinity']\n",
        "<type 'netCDF4.Variable'>\n",
        "float32 temperature(MT, Depth, Y, X)\n",
        "    coordinates: Longitude Latitude Date\n",
        "    standard_name: sea_water_potential_temperature\n",
        "    units: degC\n",
        "    _FillValue: 1.26765e+30\n",
        "    valid_range: [ -5.07860279  11.14989948]\n",
        "    long_name:   temp [90.9H]\n",
        "unlimited dimensions: MT\n",
        "current shape = (1, 10, 850, 712)\n",
        "filling on\n"
       ]
      }
     ],
     "prompt_number": 4
    },
    {
     "cell_type": "markdown",
     "metadata": {
      "internals": {
       "frag_helper": "fragment_end",
       "frag_number": 6,
       "slide_type": "subslide"
      },
      "slideshow": {
       "slide_type": "slide"
      }
     },
     "source": [
      "## List the Dimensions\n",
      "\n",
      "- All variables in a netCDF file have an associated shape, specified by a list of dimensions.\n",
      "- Let's list all the dimensions in this netCDF file.\n",
      "- Note that the **`MT`** dimension is special (*`unlimited`*), which means it can be appended to."
     ]
    },
    {
     "cell_type": "code",
     "collapsed": false,
     "input": [
      "for d in f.dimensions.items():\n",
      "    print d"
     ],
     "language": "python",
     "metadata": {
      "internals": {
       "frag_helper": "fragment_end",
       "frag_number": 8
      },
      "slideshow": {
       "slide_type": "fragment"
      }
     },
     "outputs": [
      {
       "output_type": "stream",
       "stream": "stdout",
       "text": [
        "(u'MT', <netCDF4.Dimension object at 0x7f9c2804faf0>)\n",
        "(u'Y', <netCDF4.Dimension object at 0x7f9c2804fb40>)\n",
        "(u'X', <netCDF4.Dimension object at 0x7f9c2804fb90>)\n",
        "(u'Depth', <netCDF4.Dimension object at 0x7f9c2804fbe0>)\n"
       ]
      }
     ],
     "prompt_number": 8
    },
    {
     "cell_type": "markdown",
     "metadata": {
      "internals": {
       "frag_helper": "fragment_end",
       "frag_number": 9
      },
      "slideshow": {
       "slide_type": "fragment"
      }
     },
     "source": [
      "Each variable has a **`dimensions`** and a **`shape`** attribute."
     ]
    },
    {
     "cell_type": "code",
     "collapsed": false,
     "input": [
      "temp.dimensions"
     ],
     "language": "python",
     "metadata": {
      "internals": {
       "frag_helper": "fragment_end",
       "frag_number": 10
      },
      "slideshow": {
       "slide_type": "fragment"
      }
     },
     "outputs": [
      {
       "metadata": {},
       "output_type": "pyout",
       "prompt_number": 9,
       "text": [
        "(u'MT', u'Depth', u'Y', u'X')"
       ]
      }
     ],
     "prompt_number": 9
    },
    {
     "cell_type": "code",
     "collapsed": false,
     "input": [
      "temp.shape"
     ],
     "language": "python",
     "metadata": {
      "internals": {
       "frag_helper": "fragment_end",
       "frag_number": 11,
       "slide_helper": "subslide_end"
      },
      "slide_helper": "slide_end",
      "slideshow": {
       "slide_type": "fragment"
      }
     },
     "outputs": [
      {
       "metadata": {},
       "output_type": "pyout",
       "prompt_number": 10,
       "text": [
        "(1, 10, 850, 712)"
       ]
      }
     ],
     "prompt_number": 10
    },
    {
     "cell_type": "markdown",
     "metadata": {
      "internals": {
       "frag_helper": "fragment_end",
       "frag_number": 11,
       "slide_type": "subslide"
      },
      "slideshow": {
       "slide_type": "slide"
      }
     },
     "source": [
      "### Each dimension typically has a variable associated with it (called a *coordinate* variable).\n",
      "- *Coordinate variables* are 1D variables that have the same name as dimensions.\n",
      "- Coordinate variables and *auxiliary coordinate variables* (named by the *coordinates* attribute) locate values in time and space."
     ]
    },
    {
     "cell_type": "code",
     "collapsed": false,
     "input": [
      "mt = f.variables['MT']\n",
      "depth = f.variables['Depth']\n",
      "x,y = f.variables['X'], f.variables['Y']\n",
      "print mt \n",
      "print x                 "
     ],
     "language": "python",
     "metadata": {
      "internals": {
       "frag_helper": "fragment_end",
       "frag_number": 13,
       "slide_helper": "subslide_end"
      },
      "slide_helper": "slide_end",
      "slideshow": {
       "slide_type": "fragment"
      }
     },
     "outputs": [
      {
       "output_type": "stream",
       "stream": "stdout",
       "text": [
        "<type 'netCDF4.Variable'>\n",
        "float64 MT(MT)\n",
        "    long_name: time\n",
        "    units: days since 1900-12-31 00:00:00\n",
        "    calendar: standard\n",
        "    axis: T\n",
        "unlimited dimensions: MT\n",
        "current shape = (1,)\n",
        "filling on, default _FillValue of 9.96920996839e+36 used\n",
        "\n",
        "<type 'netCDF4.Variable'>\n",
        "int32 X(X)\n",
        "    point_spacing: even\n",
        "    axis: X\n",
        "unlimited dimensions: \n",
        "current shape = (712,)\n",
        "filling on, default _FillValue of -2147483647 used\n",
        "\n"
       ]
      }
     ],
     "prompt_number": 11
    },
    {
     "cell_type": "markdown",
     "metadata": {
      "internals": {
       "frag_helper": "fragment_end",
       "frag_number": 13,
       "slide_type": "subslide"
      },
      "slideshow": {
       "slide_type": "slide"
      }
     },
     "source": [
      "## Accessing data from a netCDF variable object\n",
      "\n",
      "- netCDF variables objects behave much like numpy arrays.\n",
      "- slicing a netCDF variable object returns a numpy array with the data.\n",
      "- Boolean array and integer sequence indexing behaves differently for netCDF variables than for numpy arrays. Only 1-d boolean arrays and integer sequences are allowed, and these indices work independently along each dimension (similar to the way vector subscripts work in fortran)."
     ]
    },
    {
     "cell_type": "code",
     "collapsed": false,
     "input": [
      "time = mt[:]  # Reads the netCDF variable MT, array of one element\n",
      "print time "
     ],
     "language": "python",
     "metadata": {
      "internals": {
       "frag_helper": "fragment_end",
       "frag_number": 15
      },
      "slideshow": {
       "slide_type": "fragment"
      }
     },
     "outputs": [
      {
       "output_type": "stream",
       "stream": "stdout",
       "text": [
        "[ 41023.25]\n"
       ]
      }
     ],
     "prompt_number": 12
    },
    {
     "cell_type": "code",
     "collapsed": false,
     "input": [
      "dpth = depth[:] # examine depth array\n",
      "print dpth "
     ],
     "language": "python",
     "metadata": {
      "internals": {
       "frag_helper": "fragment_end",
       "frag_number": 16
      },
      "slideshow": {
       "slide_type": "fragment"
      }
     },
     "outputs": [
      {
       "output_type": "stream",
       "stream": "stdout",
       "text": [
        "[    0.   100.   200.   400.   700.  1000.  2000.  3000.  4000.  5000.]\n"
       ]
      }
     ],
     "prompt_number": 13
    },
    {
     "cell_type": "code",
     "collapsed": false,
     "input": [
      "xx,yy = x[:],y[:]\n",
      "print 'shape of temp variable:',temp.shape\n",
      "tempslice = temp[0, dpth > 400, xx > xx.max()/2, yy < yy.max()/2]\n",
      "print 'shape of temp slice:',tempslice.shape"
     ],
     "language": "python",
     "metadata": {
      "internals": {
       "frag_helper": "fragment_end",
       "frag_number": 17,
       "slide_helper": "subslide_end"
      },
      "slide_helper": "slide_end",
      "slideshow": {
       "slide_type": "fragment"
      }
     },
     "outputs": [
      {
       "output_type": "stream",
       "stream": "stdout",
       "text": [
        "shape of temp variable: (1, 10, 850, 712)\n",
        "shape of temp slice:"
       ]
      },
      {
       "output_type": "stream",
       "stream": "stdout",
       "text": [
        " (6, 356, 424)\n"
       ]
      }
     ],
     "prompt_number": 14
    },
    {
     "cell_type": "markdown",
     "metadata": {
      "internals": {
       "frag_helper": "fragment_end",
       "frag_number": 17,
       "slide_type": "subslide"
      },
      "slideshow": {
       "slide_type": "slide"
      }
     },
     "source": [
      "## What is the sea surface temperature and salinity at 50N, 140W?\n",
      "### Finding the latitude and longitude indices of 50N, 140W\n",
      "\n",
      "- The `X` and `Y` dimensions don't look like longitudes and latitudes\n",
      "- Use the auxilary coordinate variables named in the `coordinates` variable attribute, `Latitude` and `Longitude`"
     ]
    },
    {
     "cell_type": "code",
     "collapsed": false,
     "input": [
      "lat, lon = f.variables['Latitude'], f.variables['Longitude']\n",
      "print lat"
     ],
     "language": "python",
     "metadata": {
      "internals": {
       "frag_helper": "fragment_end",
       "frag_number": 19
      },
      "slideshow": {
       "slide_type": "fragment"
      }
     },
     "outputs": [
      {
       "output_type": "stream",
       "stream": "stdout",
       "text": [
        "<type 'netCDF4.Variable'>\n",
        "float32 Latitude(Y, X)\n",
        "    standard_name: latitude\n",
        "    units: degrees_north\n",
        "unlimited dimensions: \n",
        "current shape = (850, 712)\n",
        "filling on, default _FillValue of 9.96920996839e+36 used\n",
        "\n"
       ]
      }
     ],
     "prompt_number": 15
    },
    {
     "cell_type": "markdown",
     "metadata": {
      "internals": {
       "frag_helper": "fragment_end",
       "frag_number": 20,
       "slide_helper": "subslide_end"
      },
      "slide_helper": "slide_end",
      "slideshow": {
       "slide_type": "fragment"
      }
     },
     "source": [
      "Aha!  So we need to find array indices `iy` and `ix` such that `Latitude[iy, ix]` is close to 50.0 and `Longitude[iy, ix]` is close to -140.0 ..."
     ]
    },
    {
     "cell_type": "code",
     "collapsed": false,
     "input": [
      "latvals = lat[:]; lonvals = lon[:] # extract lat/lon values (in degrees) to numpy arrays\n",
      "import numpy as np\n",
      "# a function to find the index of the point closest (in squared distance) to give lat/lon value.\n",
      "def getclosest_ij(lats,lons,latpt,lonpt):\n",
      "    dist_sq = (lats-latpt)**2 + (lons-lonpt)**2  # find squared distance of every point on grid\n",
      "    minindex_flattened = dist_sq.argmin() # 1D index of minimum dist_sq element\n",
      "    # Get 2D index for latvals and lonvals arrays from 1D index\n",
<<<<<<< Updated upstream
      "    return np.unravel_index(minindex_flattened, lats.shape)\n",
      "iy_min, ix_min = getclosest_ij(latvals, lonvals, 50., -140)"
=======
      "    return np.unravel_index(minindex_flattened, latvals.shape)\n",
      "iy_min, ix_min = getclosest_ij(latvals, lonvals, 50., -140)\n",
      "print iy_min\n",
      "print ix_min"
>>>>>>> Stashed changes
     ],
     "language": "python",
     "metadata": {
      "internals": {
       "frag_helper": "fragment_end",
       "frag_number": 20,
       "slide_type": "subslide"
      },
      "slideshow": {
       "slide_type": "slide"
      }
     },
     "outputs": [
      {
       "output_type": "stream",
       "stream": "stdout",
       "text": [
        "122\n",
        "486\n"
       ]
      }
     ],
     "prompt_number": 17
    },
    {
     "cell_type": "markdown",
     "metadata": {
      "internals": {
       "frag_helper": "fragment_end",
       "frag_number": 22
      },
      "slideshow": {
       "slide_type": "fragment"
      }
     },
     "source": [
      "### Now we have all the information we need to find our answer.\n"
     ]
    },
    {
     "cell_type": "markdown",
     "metadata": {
      "internals": {
       "frag_helper": "fragment_end",
       "frag_number": 23
      },
      "slideshow": {
       "slide_type": "fragment"
      }
     },
     "source": [
      "```\n",
      "|----------+--------|\n",
      "| Variable |  Index |\n",
      "|----------+--------|\n",
      "| MT       |      0 |\n",
      "| Depth    |      0 |\n",
      "| Y        | iy_min |\n",
      "| X        | ix_min |\n",
      "|----------+--------|\n",
      "```"
     ]
    },
    {
     "cell_type": "markdown",
     "metadata": {
      "internals": {
       "frag_helper": "fragment_end",
       "frag_number": 24
      },
      "slideshow": {
       "slide_type": "fragment"
      }
     },
     "source": [
      "### What is the sea surface temperature and salinity at the specified point?"
     ]
    },
    {
     "cell_type": "code",
     "collapsed": false,
     "input": [
      "sal = f.variables['salinity']\n",
      "# Read values out of the netCDF file for temperature and salinity\n",
      "print temp[0,0,iy_min,ix_min], temp.units\n",
      "print sal[0,0,iy_min,ix_min], sal.units"
     ],
     "language": "python",
     "metadata": {
      "internals": {
       "frag_helper": "fragment_end",
       "frag_number": 25,
       "slide_helper": "subslide_end"
      },
      "slide_helper": "slide_end",
      "slideshow": {
       "slide_type": "fragment"
      }
     },
     "outputs": [
      {
       "output_type": "stream",
       "stream": "stdout",
       "text": [
        "6.46312 degC\n",
        "32.6572 psu\n"
       ]
      }
     ],
     "prompt_number": 18
    },
    {
     "cell_type": "markdown",
     "metadata": {
      "internals": {
       "frag_helper": "fragment_end",
       "frag_number": 25,
       "slide_type": "subslide"
      },
      "slideshow": {
       "slide_type": "slide"
      }
     },
     "source": [
      "## Remote data access via openDAP\n",
      "\n",
      "- Remote data can be accessed seamlessly with the netcdf4-python API\n",
      "- Access happens via the DAP protocol and DAP servers, such as TDS.\n",
      "- many formats supported, like GRIB, are supported \"under the hood\"."
     ]
    },
    {
     "cell_type": "markdown",
     "metadata": {
      "internals": {
       "frag_helper": "fragment_end",
       "frag_number": 27
      },
      "slideshow": {
       "slide_type": "fragment"
      }
     },
     "source": [
      "The following example showcases some nice netCDF features:\n",
      "\n",
      "1. We are seamlessly accessing **remote** data, from a TDS server.\n",
      "2. We are seamlessly accessing **GRIB2** data, as if it were netCDF data.\n",
      "3. We are generating **metadata** on-the-fly.\n",
      "4. We are using [pyUDL](https://github.com/Unidata/pyudl) to get URL from **TDS data catalog**."
     ]
    },
    {
     "cell_type": "code",
     "collapsed": false,
     "input": [
      "# import pyUDL\n",
      "from pyudl.tds import get_latest_dods_url\n",
      "# specify URL for TDS data catalog\n",
      "gfs_catalog_url = \"http://thredds.ucar.edu/thredds/catalog/grib/NCEP/GFS/Global_0p5deg/catalog.xml\" \n",
      "# get latest forecast time available from catalog\n",
      "latest = get_latest_dods_url(gfs_catalog_url)\n",
      "print latest\n",
      "# open the remote dataset\n",
      "gfs = netCDF4.Dataset(latest)"
     ],
     "language": "python",
     "metadata": {
      "internals": {
       "frag_helper": "fragment_end",
       "frag_number": 28,
       "slide_helper": "subslide_end"
      },
      "slide_helper": "slide_end",
      "slideshow": {
       "slide_type": "fragment"
      }
     },
     "outputs": [
      {
       "output_type": "stream",
       "stream": "stdout",
       "text": [
        "http://thredds.ucar.edu/thredds/dodsC/grib/NCEP/GFS/Global_0p5deg/GFS_Global_0p5deg_20141021_1200.grib2/GC\n"
       ]
      }
     ],
     "prompt_number": 19
    },
    {
     "cell_type": "code",
     "collapsed": false,
     "input": [
      "# Look at metadata for a specific variable\n",
      "# gfs.variables.keys() will show all available variables.\n",
      "sfctmp = gfs.variables['Temperature_surface']\n",
      "print sfctmp\n",
      "for dname in sfctmp.dimensions: # print dimensions associated with this variable\n",
      "    print gfs.variables[dname]"
     ],
     "language": "python",
     "metadata": {
      "internals": {
       "frag_helper": "fragment_end",
       "frag_number": 28,
       "slide_helper": "subslide_end",
       "slide_type": "subslide"
      },
      "slide_helper": "slide_end",
      "slideshow": {
       "slide_type": "slide"
      }
     },
     "outputs": [
      {
       "output_type": "stream",
       "stream": "stdout",
       "text": [
        "<type 'netCDF4.Variable'>\n",
        "float32 Temperature_surface(time1, lat, lon)\n",
        "    long_name: Temperature @ Ground or water surface\n",
        "    units: K\n",
        "    missing_value: nan\n",
        "    abbreviation: TMP\n",
        "    coordinates: time1 \n",
        "    Grib_Variable_Id: VAR_0-0-0_L1\n",
        "    Grib2_Parameter: [0 0 0]\n",
        "    Grib2_Parameter_Discipline: Meteorological products\n",
        "    Grib2_Parameter_Category: Temperature\n",
        "    Grib2_Parameter_Name: Temperature\n",
        "    Grib2_Level_Type: Ground or water surface\n",
        "    Grib2_Generating_Process_Type: Forecast\n",
        "unlimited dimensions: \n",
        "current shape = (65, 361, 720)\n",
        "filling off\n",
        "\n",
        "<type 'netCDF4.Variable'>\n",
        "float64 time1(time1)\n",
        "    units: Hour since 2014-10-21T12:00:00Z\n",
        "    standard_name: time\n",
        "    long_name: GRIB forecast or observation time\n",
        "    _CoordinateAxisType: Time\n",
        "unlimited dimensions: \n",
        "current shape = (65,)\n",
        "filling off\n",
        "\n",
        "<type 'netCDF4.Variable'>\n",
        "float32 lat(lat)\n",
        "    units: degrees_north\n",
        "    _CoordinateAxisType: Lat\n",
        "unlimited dimensions: \n",
        "current shape = (361,)\n",
        "filling off\n",
        "\n",
        "<type 'netCDF4.Variable'>\n",
        "float32 lon(lon)\n",
        "    units: degrees_east\n",
        "    _CoordinateAxisType: Lon\n",
        "unlimited dimensions: \n",
        "current shape = (720,)\n",
        "filling off\n",
        "\n"
       ]
      }
     ],
     "prompt_number": 20
    },
    {
     "cell_type": "markdown",
     "metadata": {
      "internals": {
       "frag_helper": "fragment_end",
       "frag_number": 28,
       "slide_type": "subslide"
      },
      "slideshow": {
       "slide_type": "slide"
      }
     },
     "source": [
      "##Missing values\n",
      "- when `data == var.missing_value` somewhere, a masked array is returned.\n",
      "- illustrate with soil moisture data (only defined over land)\n",
      "- white areas on plot are masked values over water."
     ]
    },
    {
     "cell_type": "code",
     "collapsed": false,
     "input": [
      "soilmvar = gfs.variables['Volumetric_Soil_Moisture_Content_depth_below_surface_layer']\n",
      "soilm = soilmvar[0,0,::-1,:] # flip the data in latitude so North Hemisphere is up on the plot\n",
      "print soilm.shape, type(soilm), soilmvar.missing_value\n",
      "import matplotlib.pyplot as plt\n",
      "%matplotlib inline\n",
      "cs = plt.contourf(soilm)"
     ],
     "language": "python",
     "metadata": {
      "internals": {
       "frag_helper": "fragment_end",
       "frag_number": 31
      },
      "slideshow": {
       "slide_type": "fragment"
      }
     },
     "outputs": [
      {
       "output_type": "stream",
       "stream": "stdout",
       "text": [
        "(361, 720) <class 'numpy.ma.core.MaskedArray'> nan\n"
       ]
      },
      {
       "metadata": {},
       "output_type": "display_data",
       "png": "iVBORw0KGgoAAAANSUhEUgAAAXIAAAD7CAYAAAB37B+tAAAABHNCSVQICAgIfAhkiAAAAAlwSFlz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\nLwAAAABJRU5ErkJggg==\n",
       "text": [
        "<matplotlib.figure.Figure at 0x7f9c1a727e90>"
       ]
      }
     ],
     "prompt_number": 21
    },
    {
     "cell_type": "markdown",
     "metadata": {
      "internals": {
       "frag_helper": "fragment_end",
       "frag_number": 32,
       "slide_helper": "subslide_end"
      },
      "slide_helper": "slide_end",
      "slideshow": {
       "slide_type": "fragment"
      }
     },
     "source": [
      "##Packed integer data\n",
      "There is a similar feature for variables with `scale_factor` and `add_offset` attributes.\n",
      "\n",
      "- short integer data will automatically be returned as float data, with the scale and offset applied.  "
     ]
    },
    {
     "cell_type": "markdown",
     "metadata": {
      "internals": {
       "frag_helper": "fragment_end",
       "frag_number": 32,
       "slide_type": "subslide"
      },
      "slideshow": {
       "slide_type": "slide"
      }
     },
     "source": [
      "## Dealing with dates and times\n",
      "- time variables usually measure relative to a fixed date using a certain calendar, with units specified like ***`hours since YY:MM:DD hh-mm-ss`***.\n",
      "- **`num2date`** and **`date2num`** convenience functions provided to convert between these numeric time coordinates and handy python datetime instances.  \n",
      "- **`date2index`** finds the time index corresponding to a datetime instance."
     ]
    },
    {
     "cell_type": "code",
     "collapsed": false,
     "input": [
      "from netCDF4 import num2date, date2num, date2index\n",
      "timedim = sfctmp.dimensions[0]\n",
      "print timedim\n",
      "times = gfs.variables[timedim]\n",
      "print times.units, times[:]"
     ],
     "language": "python",
     "metadata": {
      "internals": {
       "frag_helper": "fragment_end",
       "frag_number": 34
      },
      "slideshow": {
       "slide_type": "fragment"
      }
     },
     "outputs": [
      {
       "output_type": "stream",
       "stream": "stdout",
       "text": [
        "time1\n",
        "Hour since 2014-10-21T12:00:00Z [   0.    3.    6.    9.   12.   15.   18.   21.   24.   27.   30.   33.\n",
        "   36.   39.   42.   45.   48.   51.   54.   57.   60.   63.   66.   69.\n",
        "   72.   75.   78.   81.   84.   87.   90.   93.   96.   99.  102.  105.\n",
        "  108.  111.  114.  117.  120.  123.  126.  129.  132.  135.  138.  141.\n",
        "  144.  147.  150.  153.  156.  159.  162.  165.  168.  171.  174.  177.\n",
        "  180.  183.  186.  189.  192.]\n"
       ]
      }
     ],
     "prompt_number": 22
    },
    {
     "cell_type": "code",
     "collapsed": false,
     "input": [
      "dates = num2date(times[:], times.units)\n",
      "print [date.strftime('%Y%m%d%H') for date in dates]"
     ],
     "language": "python",
     "metadata": {
      "internals": {
       "frag_helper": "fragment_end",
       "frag_number": 35,
       "slide_helper": "subslide_end"
      },
      "slide_helper": "slide_end",
      "slideshow": {
       "slide_type": "fragment"
      }
     },
     "outputs": [
      {
       "output_type": "stream",
       "stream": "stdout",
       "text": [
        "['2014102112', '2014102115', '2014102118', '2014102121', '2014102200', '2014102203', '2014102206', '2014102209', '2014102212', '2014102215', '2014102218', '2014102221', '2014102300', '2014102303', '2014102306', '2014102309', '2014102312', '2014102315', '2014102318', '2014102321', '2014102400', '2014102403', '2014102406', '2014102409', '2014102412', '2014102415', '2014102418', '2014102421', '2014102500', '2014102503', '2014102506', '2014102509', '2014102512', '2014102515', '2014102518', '2014102521', '2014102600', '2014102603', '2014102606', '2014102609', '2014102612', '2014102615', '2014102618', '2014102621', '2014102700', '2014102703', '2014102706', '2014102709', '2014102712', '2014102715', '2014102718', '2014102721', '2014102800', '2014102803', '2014102806', '2014102809', '2014102812', '2014102815', '2014102818', '2014102821', '2014102900', '2014102903', '2014102906', '2014102909', '2014102912']\n"
       ]
      }
     ],
     "prompt_number": 23
    },
    {
     "cell_type": "markdown",
     "metadata": {
      "internals": {
       "frag_helper": "fragment_end",
       "frag_number": 35,
       "slide_type": "subslide"
      },
      "slideshow": {
       "slide_type": "slide"
      }
     },
     "source": [
      "###Get index associated with a specified date, extract forecast data for that date."
     ]
    },
    {
     "cell_type": "code",
     "collapsed": false,
     "input": [
      "from datetime import datetime, timedelta\n",
      "date = datetime.now() + timedelta(days=3)\n",
      "print date\n",
      "ntime = date2index(date,times,select='nearest')\n",
      "print ntime, dates[ntime]"
     ],
     "language": "python",
     "metadata": {
      "internals": {
       "frag_helper": "fragment_end",
       "frag_number": 37
      },
      "slideshow": {
       "slide_type": "fragment"
      }
     },
     "outputs": [
      {
       "output_type": "stream",
       "stream": "stdout",
       "text": [
        "2014-10-24 14:32:17.553766\n",
        "25 2014-10-24 15:00:00\n"
       ]
      }
     ],
     "prompt_number": 24
    },
    {
     "cell_type": "markdown",
     "metadata": {
      "internals": {
       "frag_helper": "fragment_end",
       "frag_number": 38
      },
      "slideshow": {
       "slide_type": "fragment"
      }
     },
     "source": [
      "###Get temp forecast for Boulder (near 40N, -105W)\n",
      "- use function **`getcloses_ij`** we created before..."
     ]
    },
    {
     "cell_type": "code",
     "collapsed": false,
     "input": [
      "lats, lons = gfs.variables['lat'][:], gfs.variables['lon'][:]\n",
      "# lats, lons are 1-d. Make them 2-d using numpy.meshgrid.\n",
      "lons, lats = np.meshgrid(lons,lats)\n",
      "j, i = getclosest_ij(lats,lons,40,-105)\n",
      "fcst_temp = sfctmp[ntime,j,i]\n",
      "print 'Boulder forecast valid at %s UTC = %5.1f %s' % (dates[ntime],fcst_temp,sfctmp.units)"
     ],
     "language": "python",
     "metadata": {
      "internals": {
       "frag_helper": "fragment_end",
       "frag_number": 39,
       "slide_helper": "subslide_end"
      },
      "slide_helper": "slide_end",
      "slideshow": {
       "slide_type": "fragment"
      }
     },
     "outputs": [
      {
       "output_type": "stream",
       "stream": "stdout",
       "text": [
        "Boulder forecast valid at 2014-10-24 15:00:00 UTC = 280.8 K\n"
       ]
      }
     ],
     "prompt_number": 25
    },
    {
     "cell_type": "markdown",
     "metadata": {
      "internals": {
       "frag_helper": "fragment_end",
       "frag_number": 39,
<<<<<<< Updated upstream
=======
       "slide_helper": "subslide_end",
       "slide_type": "subslide"
      },
      "slide_helper": "slide_end",
      "slideshow": {
       "slide_type": "slide"
      }
     },
     "source": [
      "##Exercise\n",
      "\n",
      "Get probability of precip (3 hour accumulation > 0.25mm) at Boulder for tomorrow from [SREF](http://www.emc.ncep.noaa.gov/mmb/SREF/SREF.html).\n",
      "\n",
      "(catalog URL = 'http://thredds.ucar.edu/thredds/catalog/grib/NCEP/SREF/CONUS_40km/ensprod/catalog.html')"
     ]
    },
    {
     "cell_type": "code",
     "collapsed": false,
     "input": [
      "# import pyUDL\n",
      "from pyudl.tds import get_latest_dods_url\n",
      "# specify URL for TDS data catalog\n",
      "gfs_catalog_url = \"http://thredds.ucar.edu/thredds/catalog/grib/NCEP/SREF/CONUS_40km/ensprod/catalog.xml\" \n",
      "# get latest forecast time available from catalog\n",
      "latest = get_latest_dods_url(gfs_catalog_url)\n",
      "print latest\n",
      "# open the remote dataset\n",
      "gfs = netCDF4.Dataset(latest)\n",
      "print gfs.variables.keys()"
     ],
     "language": "python",
     "metadata": {},
     "outputs": [
      {
       "output_type": "stream",
       "stream": "stdout",
       "text": [
        "http://thredds.ucar.edu/thredds/dodsC/grib/NCEP/SREF/CONUS_40km/ensprod/SREF_CONUS_40km_ensprod_20141021_1500.grib2/GC\n",
        "[u'LambertConformal_Projection', u'reftime_ISO', u'time_bounds', u'time1_bounds', u'pressure_difference_layer_bounds', u'x', u'y', u'reftime', u'time', u'time1', u'time2', u'pressure_difference_layer', u'height_above_ground', u'isobaric', u'height_above_ground1', u'isobaric1', u'isobaric2', u'Convective_available_potential_energy_surface_probability_above_3000', u'Convective_available_potential_energy_surface_probability_above_2000', u'Convective_available_potential_energy_surface_probability_above_500', u'Convective_available_potential_energy_surface_probability_above_4000', u'Convective_available_potential_energy_surface_probability_above_1000', u'Dewpoint_temperature_height_above_ground_weightedMean', u'Dewpoint_temperature_height_above_ground_stdDev', u'Dewpoint_temperature_isobaric_stdDev', u'Dewpoint_temperature_isobaric_weightedMean', u'Geopotential_height_cloud_ceiling_probability_below_152p5', u'Geopotential_height_isobaric_stdDev', u'Geopotential_height_cloud_ceiling_probability_below_305', u'Geopotential_height_isobaric_weightedMean', u'Geopotential_height_cloud_ceiling_probability_below_914p6', u'Large-scale_snow_surface_12_Hour_Accumulation_stdDev', u'Large-scale_snow_surface_12_Hour_Accumulation_weightedMean', u'Large-scale_snow_surface_12_Hour_Accumulation_probability_above_304p8', u'Large-scale_snow_surface_12_Hour_Accumulation_probability_above_203p2', u'Large-scale_snow_surface_12_Hour_Accumulation_probability_above_25p4', u'Large-scale_snow_surface_12_Hour_Accumulation_probability_above_101p6', u'Parcel_lifted_index_to_500_hPa_pressure_difference_layer_probability_below_0', u'Parcel_lifted_index_to_500_hPa_pressure_difference_layer_probability_below_-4', u'Parcel_lifted_index_to_500_hPa_pressure_difference_layer_probability_below_-8', u'Precipitable_water_entire_atmosphere_stdDev', u'Precipitable_water_entire_atmosphere_weightedMean', u'Pressure_reduced_to_MSL_msl_weightedMean', u'Pressure_reduced_to_MSL_msl_stdDev', u'Temperature_height_above_ground_probability_below_273', u'Temperature_height_above_ground_weightedMean', u'Temperature_height_above_ground_stdDev', u'Temperature_isobaric_probability_below_273', u'Temperature_isobaric_stdDev', u'Temperature_isobaric_weightedMean', u'Total_precipitation_surface_3_Hour_Accumulation_stdDev', u'Total_precipitation_surface_3_Hour_Accumulation_weightedMean', u'Total_precipitation_surface_3_Hour_Accumulation_probability_above_25p4', u'Total_precipitation_surface_3_Hour_Accumulation_probability_above_0p25', u'Total_precipitation_surface_3_Hour_Accumulation_probability_above_12p7', u'Total_precipitation_surface_3_Hour_Accumulation_probability_above_6p35', u'Categorical_Rain_surface_probability_equals_1', u'Categorical_Freezing_Rain_surface_probability_equals_1', u'Categorical_Ice_Pellets_surface_probability_equals_1', u'Categorical_Snow_surface_probability_equals_1', u'Visibility_surface_probability_below_4827', u'Visibility_surface_probability_below_1609', u'Wind_speed_isobaric_stdDev', u'Wind_speed_height_above_ground_probability_above_12p89', u'Wind_speed_height_above_ground_probability_above_17p5', u'Wind_speed_height_above_ground_stdDev', u'Wind_speed_height_above_ground_probability_above_25p78', u'u-component_of_wind_height_above_ground_weightedMean', u'u-component_of_wind_isobaric_weightedMean', u'v-component_of_wind_isobaric_weightedMean', u'v-component_of_wind_height_above_ground_weightedMean']"
       ]
      },
      {
       "output_type": "stream",
       "stream": "stdout",
       "text": [
        "\n"
       ]
      }
     ],
     "prompt_number": 32
    },
    {
     "cell_type": "code",
     "collapsed": false,
     "input": [
      "pprob = gfs.variables['Total_precipitation_surface_3_Hour_Accumulation_probability_above_0p25']\n",
      "print pprob\n",
      "for dname in pprob.dimensions: # print dimensions associated with this variable\n",
      "    print gfs.variables[dname]"
     ],
     "language": "python",
     "metadata": {},
     "outputs": [
      {
       "output_type": "stream",
       "stream": "stdout",
       "text": [
        "<type 'netCDF4.Variable'>\n",
        "float32 Total_precipitation_surface_3_Hour_Accumulation_probability_above_0p25(time1, y, x)\n",
        "    long_name: Probability Total precipitation (3_Hour Accumulation) above_0.25 kg.m-2 @ Ground or water surface\n",
        "    units: %\n",
        "    missing_value: nan\n",
        "    abbreviation: APCP\n",
        "    grid_mapping: LambertConformal_Projection\n",
        "    coordinates: time1 \n",
        "    Grib_Statistical_Interval_Type: Accumulation\n",
        "    Grib_Variable_Id: VAR_0-1-8_L1_I3_Hour_S1_Prob_above_0p25\n",
        "    Grib2_Parameter: [0 1 8]\n",
        "    Grib2_Parameter_Discipline: Meteorological products\n",
        "    Grib2_Parameter_Category: Moisture\n",
        "    Grib2_Parameter_Name: Total precipitation\n",
        "    Grib2_Level_Type: Ground or water surface\n",
        "    Grib2_Probability_Type: 1\n",
        "    Grib2_Probability_Name: above_0.25\n",
        "    Grib2_Generating_Process_Type: Probability forecast\n",
        "unlimited dimensions: \n",
        "current shape = (28, 129, 185)\n",
        "filling off\n",
        "\n",
        "<type 'netCDF4.Variable'>\n",
        "float64 time1(time1)\n",
        "    units: Hour since 2014-10-21T15:00:00Z\n",
        "    standard_name: time\n",
        "    long_name: GRIB forecast or observation time\n",
        "    bounds: time1_bounds\n",
        "    _CoordinateAxisType: Time\n",
        "unlimited dimensions: \n",
        "current shape = (28,)\n",
        "filling off\n",
        "\n",
        "<type 'netCDF4.Variable'>\n",
        "float32 y(y)\n",
        "    standard_name: projection_y_coordinate\n",
        "    units: km\n",
        "    _CoordinateAxisType: GeoY\n",
        "unlimited dimensions: \n",
        "current shape = (129,)\n",
        "filling off\n",
        "\n",
        "<type 'netCDF4.Variable'>\n",
        "float32 x(x)\n",
        "    standard_name: projection_x_coordinate\n",
        "    units: km\n",
        "    _CoordinateAxisType: GeoX\n",
        "unlimited dimensions: \n",
        "current shape = (185,)\n",
        "filling off\n",
        "\n"
       ]
      }
     ],
     "prompt_number": 33
    },
    {
     "cell_type": "code",
     "collapsed": false,
     "input": [
      "from netCDF4 import num2date, date2num, date2index\n",
      "timedim = pprob.dimensions[0]\n",
      "print timedim\n",
      "times = gfs.variables[timedim]\n",
      "print times.units, times[:]\n",
      "dates = num2date(times[:], times.units)\n",
      "print [date.strftime('%Y%m%d%H') for date in dates]\n",
      "from datetime import datetime, timedelta\n",
      "date = datetime.now() + timedelta(days=1)\n",
      "print date\n",
      "ntime = date2index(date,times,select='nearest')\n",
      "print ntime, dates[ntime]"
     ],
     "language": "python",
     "metadata": {},
     "outputs": [
      {
       "output_type": "stream",
       "stream": "stdout",
       "text": [
        "time1\n",
        "Hour since 2014-10-21T15:00:00Z [  6.   9.  12.  15.  18.  21.  24.  27.  30.  33.  36.  39.  42.  45.  48.\n",
        "  51.  54.  57.  60.  63.  66.  69.  72.  75.  78.  81.  84.  87.]\n",
        "['2014102121', '2014102200', '2014102203', '2014102206', '2014102209', '2014102212', '2014102215', '2014102218', '2014102221', '2014102300', '2014102303', '2014102306', '2014102309', '2014102312', '2014102315', '2014102318', '2014102321', '2014102400', '2014102403', '2014102406', '2014102409', '2014102412', '2014102415', '2014102418', '2014102421', '2014102500', '2014102503', '2014102506']\n",
        "2014-10-22 14:49:16.429482\n",
        "6 2014-10-22 15:00:00\n"
       ]
      }
     ],
     "prompt_number": 35
    },
    {
     "cell_type": "code",
     "collapsed": false,
     "input": [
      "lats, lons = gfs.variables['x'][:], gfs.variables['y'][:]\n",
      "# lats, lons are 1-d. Make them 2-d using numpy.meshgrid.\n",
      "lons, lats = np.meshgrid(lons,lats)\n",
      "j, i = getclosest_ij(lats,lons,40,-105)\n",
      "prec_prob = pprob[ntime,j,i]\n",
      "print 'Boulder precipitation probability (>.25mm) valid at %s UTC = %5.1f %s' % (dates[ntime],prec_prob,pprob.units)"
     ],
     "language": "python",
     "metadata": {},
     "outputs": [
      {
       "output_type": "stream",
       "stream": "stdout",
       "text": [
        "Boulder precipitation probability (>.25mm) valid at 2014-10-22 15:00:00 UTC =   4.8 %\n"
       ]
      }
     ],
     "prompt_number": 38
    },
    {
     "cell_type": "markdown",
     "metadata": {
      "internals": {
       "frag_helper": "fragment_end",
       "frag_number": 39,
>>>>>>> Stashed changes
       "slide_type": "subslide"
      },
      "slideshow": {
       "slide_type": "slide"
      }
     },
     "source": [
      "##Simple multi-file aggregation\n",
      "\n",
      "What if you have a bunch of netcdf files, each with data for a different year, and you want to access all the data as if it were in one file?"
     ]
    },
    {
     "cell_type": "code",
     "collapsed": false,
     "input": [
      "!ls -l data/prmsl*nc"
     ],
     "language": "python",
     "metadata": {
      "internals": {
       "frag_helper": "fragment_end",
       "frag_number": 42
      },
      "slideshow": {
       "slide_type": "fragment"
      }
     },
     "outputs": [
      {
       "output_type": "stream",
       "stream": "stdout",
       "text": [
        "-rw-r--r-- 1 python staff 8985332 Oct 20 09:33 data/prmsl.2000.nc\r\n",
        "-rw-r--r-- 1 python staff 8968789 Oct 20 09:33 data/prmsl.2001.nc\r\n",
        "-rw-r--r-- 1 python staff 8972796 Oct 20 09:33 data/prmsl.2002.nc\r\n",
        "-rw-r--r-- 1 python staff 8974435 Oct 20 09:33 data/prmsl.2003.nc\r\n",
        "-rw-r--r-- 1 python staff 8997438 Oct 20 09:33 data/prmsl.2004.nc\r\n",
        "-rw-r--r-- 1 python staff 8976678 Oct 20 09:33 data/prmsl.2005.nc\r\n",
        "-rw-r--r-- 1 python staff 8969714 Oct 20 09:33 data/prmsl.2006.nc\r\n",
        "-rw-r--r-- 1 python staff 8974360 Oct 20 09:33 data/prmsl.2007.nc\r\n",
        "-rw-r--r-- 1 python staff 8994260 Oct 20 09:33 data/prmsl.2008.nc\r\n",
        "-rw-r--r-- 1 python staff 8974678 Oct 20 09:33 data/prmsl.2009.nc\r\n",
        "-rw-r--r-- 1 python staff 8970732 Oct 20 09:33 data/prmsl.2010.nc\r\n",
        "-rw-r--r-- 1 python staff 8976285 Oct 20 09:33 data/prmsl.2011.nc\r\n"
       ]
      }
     ],
     "prompt_number": 39
    },
    {
     "cell_type": "markdown",
     "metadata": {
      "internals": {
       "frag_helper": "fragment_end",
       "frag_number": 43
      },
      "slideshow": {
       "slide_type": "fragment"
      }
     },
     "source": [
      "**`MFDataset`** uses file globbing to patch together all the files into one big Dataset.\n",
      "You can also pass it a list of specific files.\n",
      "\n",
      "Limitations:\n",
      "\n",
      "- It can only  aggregate the data along the leftmost dimension of each variable.\n",
      "- only works with `NETCDF3`, or `NETCDF4_CLASSIC` formatted files.\n",
      "- kind of slow."
     ]
    },
    {
     "cell_type": "code",
     "collapsed": false,
     "input": [
      "mf = netCDF4.MFDataset('data/prmsl*nc')\n",
      "times = mf.variables['time']\n",
      "dates = num2date(times[:],times.units)\n",
      "print 'starting date = ',dates[0]\n",
      "print 'ending date = ',dates[-1]\n",
      "prmsl = mf.variables['prmsl']\n",
      "print times.shape, prmsl.dimensions, prmsl.shape"
     ],
     "language": "python",
     "metadata": {
      "internals": {
       "frag_helper": "fragment_end",
       "frag_number": 44,
       "slide_helper": "subslide_end"
      },
      "slide_helper": "slide_end",
      "slideshow": {
       "slide_type": "fragment"
      }
     },
     "outputs": [
      {
       "output_type": "stream",
       "stream": "stdout",
       "text": [
        "starting date =  2000-01-01 00:00:00\n",
        "ending date =  2011-12-31 00:00:00\n",
        "(4383,) (u'time', u'lat', u'lon') (4383, 91, 180)\n"
       ]
      }
     ],
     "prompt_number": 40
    },
    {
     "cell_type": "markdown",
     "metadata": {
      "internals": {
       "frag_helper": "fragment_end",
       "frag_number": 44,
       "slide_type": "subslide"
      },
      "slideshow": {
       "slide_type": "slide"
      }
     },
     "source": [
      "## Closing your netCDF file\n",
      "\n",
      "It's good to close netCDF files, but not actually necessary when Dataset is open for read access only.\n"
     ]
    },
    {
     "cell_type": "code",
     "collapsed": false,
     "input": [
      "f.close()\n",
      "gfs.close()"
     ],
     "language": "python",
     "metadata": {
      "internals": {
       "frag_helper": "fragment_end",
       "frag_number": 46
      },
      "slideshow": {
       "slide_type": "fragment"
      }
     },
     "outputs": [],
     "prompt_number": 41
    },
    {
     "cell_type": "markdown",
     "metadata": {
      "internals": {
       "frag_helper": "fragment_end",
       "frag_number": 46,
       "slide_helper": "subslide_end"
      },
      "slide_helper": "slide_end",
      "slideshow": {
       "slide_type": "-"
      }
     },
     "source": [
      "##That's it!\n",
      "\n",
      "Now you're ready to start exploring your data interactively.\n",
      "\n",
      "To be continued with **Writing netCDF data** ...."
     ]
    },
    {
     "cell_type": "code",
     "collapsed": false,
     "input": [],
     "language": "python",
     "metadata": {},
     "outputs": []
    }
   ],
   "metadata": {}
  }
 ]
}