{
 "metadata": {
  "name": "",
  "signature": "sha256:d3d4db4d4458c981deed60b1cb96dc9523dbcc322db6a6b6531069e94f407580"
 },
 "nbformat": 3,
 "nbformat_minor": 0,
 "worksheets": [
  {
   "cells": [
    {
     "cell_type": "markdown",
     "metadata": {},
     "source": [
      "# Nice Errors"
     ]
    },
    {
     "cell_type": "code",
     "collapsed": false,
     "input": [
      "1 + foo"
     ],
     "language": "python",
     "metadata": {},
     "outputs": [
      {
       "ename": "NameError",
       "evalue": "name 'foo' is not defined",
       "output_type": "pyerr",
       "traceback": [
        "\u001b[1;31m---------------------------------------------------------------------------\u001b[0m\n\u001b[1;31mNameError\u001b[0m                                 Traceback (most recent call last)",
        "\u001b[1;32m<ipython-input-1-130777adf3f0>\u001b[0m in \u001b[0;36m<module>\u001b[1;34m()\u001b[0m\n\u001b[1;32m----> 1\u001b[1;33m \u001b[1;36m1\u001b[0m \u001b[1;33m+\u001b[0m \u001b[0mfoo\u001b[0m\u001b[1;33m\u001b[0m\u001b[0m\n\u001b[0m",
        "\u001b[1;31mNameError\u001b[0m: name 'foo' is not defined"
       ]
      }
     ],
     "prompt_number": 1
    },
    {
     "cell_type": "markdown",
     "metadata": {},
     "source": [
      "# Inline Documentation"
     ]
    },
    {
     "cell_type": "code",
     "collapsed": false,
     "input": [
      "open?"
     ],
     "language": "python",
     "metadata": {},
     "outputs": [],
     "prompt_number": 3
    },
    {
     "cell_type": "markdown",
     "metadata": {},
     "source": [
      "# Tab Completion\n",
      "\n",
      "Type `o` then `tab` and you should see a drop-down menu of choices."
     ]
    },
    {
     "cell_type": "code",
     "collapsed": true,
     "input": [
      "o"
     ],
     "language": "python",
     "metadata": {},
     "outputs": []
    },
    {
     "cell_type": "markdown",
     "metadata": {},
     "source": [
      "# Run Shell Commands with `!`"
     ]
    },
    {
     "cell_type": "code",
     "collapsed": false,
     "input": [
      "!ls"
     ],
     "language": "python",
     "metadata": {},
     "outputs": [
      {
       "output_type": "stream",
       "stream": "stdout",
       "text": [
        "0. Getting Started.ipynb      4. Sharing IPython Notebooks.ipynb\r\n",
        "1. Notebook Features.ipynb    5. Excercises.ipynb\r\n",
        "2. Plotting.ipynb\t      ipython-notebook-reference.ipynb\r\n",
        "3. Interactive Widgets.ipynb\r\n"
       ]
      }
     ],
     "prompt_number": 6
    },
    {
     "cell_type": "markdown",
     "metadata": {},
     "source": [
      "# Remote Operations\n",
      "\n",
      "IPython Notebook has facilities for running code both locally and remotely."
     ]
    },
    {
     "cell_type": "markdown",
     "metadata": {},
     "source": [
      "## Local or Remote Images and Even Videos"
     ]
    },
    {
     "cell_type": "code",
     "collapsed": false,
     "input": [
      "from IPython.core.display import Image \n",
      "Image(url='http://python.org/images/python-logo.gif')"
     ],
     "language": "python",
     "metadata": {},
     "outputs": [
      {
       "html": [
        "<img src=\"http://python.org/images/python-logo.gif\"/>"
       ],
       "metadata": {},
       "output_type": "pyout",
       "prompt_number": 12,
       "text": [
        "<IPython.core.display.Image at 0x7f92f066a250>"
       ]
      }
     ],
     "prompt_number": 12
    },
    {
     "cell_type": "code",
     "collapsed": false,
     "input": [
      "loadpy http://matplotlib.org/mpl_examples/pylab_examples/simple_plot.py "
     ],
     "language": "python",
     "metadata": {},
     "outputs": [],
     "prompt_number": 13
    },
    {
     "cell_type": "code",
     "collapsed": false,
     "input": [
      "from pylab import *\n",
      "\n",
      "t = arange(0.0, 2.0, 0.01)\n",
      "s = sin(2*pi*t)\n",
      "plot(t, s)\n",
      "\n",
      "xlabel('time (s)')\n",
      "ylabel('voltage (mV)')\n",
      "title('About as simple as it gets, folks')\n",
      "grid(True)\n",
      "savefig(\"test.png\")\n",
      "show()\n"
     ],
     "language": "python",
     "metadata": {},
     "outputs": [],
     "prompt_number": 14
    }
   ],
   "metadata": {}
  }
 ]
}