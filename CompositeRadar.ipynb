{
 "metadata": {
  "name": "",
  "signature": "sha256:de0968788692f2b8146e76d560b998be784acb580fab419a13d004933c502613"
 },
 "nbformat": 3,
 "nbformat_minor": 0,
 "worksheets": [
  {
   "cells": [
    {
     "cell_type": "markdown",
     "metadata": {},
     "source": [
      "# Using Python to get the latest NEXRAD Composite\n",
      "Objective: Visualize the latest available reflectivity data composited data\n",
      "    \n",
      "Steps involved:\n",
      "\n",
      "- Define a color map based on the one used by the National Weather Service\n",
      "- Construct the appropriate URL to get the latest data file\n",
      "- Open the URL using netCDF4-python\n",
      "- Read the basic metadata\n",
      "- Create the appropriate CartoPy projection and plot the Radar Reflectivity"
     ]
    },
    {
     "cell_type": "code",
     "collapsed": false,
     "input": [
      "# Set-up for notebook\n",
      "%matplotlib inline\n",
      "\n",
      "# Some needed imports\n",
      "import datetime as dt\n",
      "import matplotlib.pyplot as plt\n",
      "import matplotlib as mpl\n",
      "import cartopy\n",
      "import numpy as np\n",
      "from netCDF4 import Dataset\n",
      "from pyudl.tds import TDSCatalog"
     ],
     "language": "python",
     "metadata": {},
     "outputs": [],
     "prompt_number": 1
    },
    {
     "cell_type": "markdown",
     "metadata": {},
     "source": [
      "## Define the NWS Color Map for reflectivity\n",
      "- While matplotlib has some really nice, built-in colormaps, nothing quite matches the NWS colormap\n",
      "- Python List of HTML colors (used photoshop color picker on a screenshot of the colorbar off of the NWS radar page)\n",
      "- Converted into matplotlib colormap using ListedColormap"
     ]
    },
    {
     "cell_type": "code",
     "collapsed": false,
     "input": [
      "# Function to create a colortable that matches the NWS colortable\n",
      "def radar_colormap():\n",
      "    nws_reflectivity_colors = [\n",
      "    \"#646464\", # ND\n",
      "    \"#ccffff\", # -30\n",
      "    \"#cc99cc\", # -25\n",
      "    \"#996699\", # -20\n",
      "    \"#663366\", # -15\n",
      "    \"#cccc99\", # -10\n",
      "    \"#999966\", # -5\n",
      "    \"#646464\", # 0\n",
      "    \"#04e9e7\", # 5\n",
      "    \"#019ff4\", # 10\n",
      "    \"#0300f4\", # 15\n",
      "    \"#02fd02\", # 20\n",
      "    \"#01c501\", # 25\n",
      "    \"#008e00\", # 30\n",
      "    \"#fdf802\", # 35\n",
      "    \"#e5bc00\", # 40\n",
      "    \"#fd9500\", # 45\n",
      "    \"#fd0000\", # 50\n",
      "    \"#d40000\", # 55\n",
      "    \"#bc0000\", # 60\n",
      "    \"#f800fd\", # 65\n",
      "    \"#9854c6\", # 70\n",
      "    \"#fdfdfd\" # 75\n",
      "    ]\n",
      "\n",
      "    return mpl.colors.ListedColormap(nws_reflectivity_colors)"
     ],
     "language": "python",
     "metadata": {},
     "outputs": [],
     "prompt_number": 2
    },
    {
     "cell_type": "heading",
     "level": 2,
     "metadata": {},
     "source": [
      "Get the latest data URL, grab the metadata, and request the data"
     ]
    },
    {
     "cell_type": "code",
     "collapsed": false,
     "input": [
      "# Get today's date...\n",
      "today = dt.datetime.utcnow()\n",
      "\n",
      "# ...and use that to assemble the URL and grab the catalog\n",
      "url = \"http://thredds.ucar.edu/thredds/catalog/nexrad/composite/gini/n0r/1km/{}/catalog.xml\".format(today.strftime(\"%Y%m%d\"))\n",
      "cat = TDSCatalog(url)\n",
      "\n",
      "# Get the list of names of datasets\n",
      "names = cat.datasets.keys()\n",
      "print names"
     ],
     "language": "python",
     "metadata": {},
     "outputs": [
      {
       "output_type": "stream",
       "stream": "stdout",
       "text": [
        "['Level3_Composite_n0r_1km_20141022_1625.gini', 'Level3_Composite_n0r_1km_20141022_1345.gini', 'Level3_Composite_n0r_1km_20141022_1555.gini', 'Level3_Composite_n0r_1km_20141022_1305.gini', 'Level3_Composite_n0r_1km_20141022_1900.gini', 'Level3_Composite_n0r_1km_20141022_0755.gini', 'Level3_Composite_n0r_1km_20141022_0620.gini', 'Level3_Composite_n0r_1km_20141022_1330.gini', 'Level3_Composite_n0r_1km_20141022_0215.gini', 'Level3_Composite_n0r_1km_20141022_0530.gini', 'Level3_Composite_n0r_1km_20141022_1310.gini', 'Level3_Composite_n0r_1km_20141022_1405.gini', 'Level3_Composite_n0r_1km_20141022_0845.gini', 'Level3_Composite_n0r_1km_20141022_0050.gini', 'Level3_Composite_n0r_1km_20141022_1315.gini', 'Level3_Composite_n0r_1km_20141022_1325.gini', 'Level3_Composite_n0r_1km_20141022_1615.gini', 'Level3_Composite_n0r_1km_20141022_0605.gini', 'Level3_Composite_n0r_1km_20141022_1705.gini', 'Level3_Composite_n0r_1km_20141022_1915.gini', 'Level3_Composite_n0r_1km_20141022_1650.gini', 'Level3_Composite_n0r_1km_20141022_1600.gini', 'Level3_Composite_n0r_1km_20141022_1340.gini', 'Level3_Composite_n0r_1km_20141022_0300.gini', 'Level3_Composite_n0r_1km_20141022_0800.gini', 'Level3_Composite_n0r_1km_20141022_1105.gini', 'Level3_Composite_n0r_1km_20141022_1815.gini', 'Level3_Composite_n0r_1km_20141022_1035.gini', 'Level3_Composite_n0r_1km_20141022_0225.gini', 'Level3_Composite_n0r_1km_20141022_1425.gini', 'Level3_Composite_n0r_1km_20141022_0450.gini', 'Level3_Composite_n0r_1km_20141022_1110.gini', 'Level3_Composite_n0r_1km_20141022_0640.gini', 'Level3_Composite_n0r_1km_20141022_0045.gini', 'Level3_Composite_n0r_1km_20141022_0655.gini', 'Level3_Composite_n0r_1km_20141022_0005.gini', 'Level3_Composite_n0r_1km_20141022_0510.gini', 'Level3_Composite_n0r_1km_20141022_1800.gini', 'Level3_Composite_n0r_1km_20141022_1150.gini', 'Level3_Composite_n0r_1km_20141022_1835.gini', 'Level3_Composite_n0r_1km_20141022_0235.gini', 'Level3_Composite_n0r_1km_20141022_0030.gini', 'Level3_Composite_n0r_1km_20141022_0515.gini', 'Level3_Composite_n0r_1km_20141022_0010.gini', 'Level3_Composite_n0r_1km_20141022_1355.gini', 'Level3_Composite_n0r_1km_20141022_1435.gini', 'Level3_Composite_n0r_1km_20141022_0015.gini', 'Level3_Composite_n0r_1km_20141022_0130.gini', 'Level3_Composite_n0r_1km_20141022_1215.gini', 'Level3_Composite_n0r_1km_20141022_0835.gini', 'Level3_Composite_n0r_1km_20141022_0200.gini', 'Level3_Composite_n0r_1km_20141022_1620.gini', 'Level3_Composite_n0r_1km_20141022_1320.gini', 'Level3_Composite_n0r_1km_20141022_0405.gini', 'Level3_Composite_n0r_1km_20141022_1500.gini', 'Level3_Composite_n0r_1km_20141022_1550.gini', 'Level3_Composite_n0r_1km_20141022_0415.gini', 'Level3_Composite_n0r_1km_20141022_1130.gini', 'Level3_Composite_n0r_1km_20141022_0830.gini', 'Level3_Composite_n0r_1km_20141022_0355.gini', 'Level3_Composite_n0r_1km_20141022_0000.gini', 'Level3_Composite_n0r_1km_20141022_1140.gini', 'Level3_Composite_n0r_1km_20141022_0210.gini', 'Level3_Composite_n0r_1km_20141022_0035.gini', 'Level3_Composite_n0r_1km_20141022_1720.gini', 'Level3_Composite_n0r_1km_20141022_0420.gini', 'Level3_Composite_n0r_1km_20141022_0250.gini', 'Level3_Composite_n0r_1km_20141022_0435.gini', 'Level3_Composite_n0r_1km_20141022_0625.gini', 'Level3_Composite_n0r_1km_20141022_0345.gini', 'Level3_Composite_n0r_1km_20141022_0730.gini', 'Level3_Composite_n0r_1km_20141022_0955.gini', 'Level3_Composite_n0r_1km_20141022_1700.gini', 'Level3_Composite_n0r_1km_20141022_0150.gini', 'Level3_Composite_n0r_1km_20141022_1400.gini', 'Level3_Composite_n0r_1km_20141022_0940.gini', 'Level3_Composite_n0r_1km_20141022_0520.gini', 'Level3_Composite_n0r_1km_20141022_1210.gini', 'Level3_Composite_n0r_1km_20141022_1515.gini', 'Level3_Composite_n0r_1km_20141022_1655.gini', 'Level3_Composite_n0r_1km_20141022_0900.gini', 'Level3_Composite_n0r_1km_20141022_1745.gini', 'Level3_Composite_n0r_1km_20141022_0855.gini', 'Level3_Composite_n0r_1km_20141022_0230.gini', 'Level3_Composite_n0r_1km_20141022_1245.gini', 'Level3_Composite_n0r_1km_20141022_0240.gini', 'Level3_Composite_n0r_1km_20141022_0105.gini', 'Level3_Composite_n0r_1km_20141022_1610.gini', 'Level3_Composite_n0r_1km_20141022_1415.gini', 'Level3_Composite_n0r_1km_20141022_1605.gini', 'Level3_Composite_n0r_1km_20141022_1455.gini', 'Level3_Composite_n0r_1km_20141022_1840.gini', 'Level3_Composite_n0r_1km_20141022_1805.gini', 'Level3_Composite_n0r_1km_20141022_0810.gini', 'Level3_Composite_n0r_1km_20141022_1115.gini', 'Level3_Composite_n0r_1km_20141022_0425.gini', 'Level3_Composite_n0r_1km_20141022_1830.gini', 'Level3_Composite_n0r_1km_20141022_1630.gini', 'Level3_Composite_n0r_1km_20141022_1440.gini', 'Level3_Composite_n0r_1km_20141022_1430.gini', 'Level3_Composite_n0r_1km_20141022_1255.gini', 'Level3_Composite_n0r_1km_20141022_1445.gini', 'Level3_Composite_n0r_1km_20141022_0725.gini', 'Level3_Composite_n0r_1km_20141022_1850.gini', 'Level3_Composite_n0r_1km_20141022_0630.gini', 'Level3_Composite_n0r_1km_20141022_1725.gini', 'Level3_Composite_n0r_1km_20141022_1050.gini', 'Level3_Composite_n0r_1km_20141022_1505.gini', 'Level3_Composite_n0r_1km_20141022_1825.gini', 'Level3_Composite_n0r_1km_20141022_0255.gini', 'Level3_Composite_n0r_1km_20141022_1125.gini', 'Level3_Composite_n0r_1km_20141022_1450.gini', 'Level3_Composite_n0r_1km_20141022_1540.gini', 'Level3_Composite_n0r_1km_20141022_0715.gini', 'Level3_Composite_n0r_1km_20141022_0505.gini', 'Level3_Composite_n0r_1km_20141022_0205.gini', 'Level3_Composite_n0r_1km_20141022_1420.gini', 'Level3_Composite_n0r_1km_20141022_0915.gini', 'Level3_Composite_n0r_1km_20141022_0440.gini', 'Level3_Composite_n0r_1km_20141022_0920.gini', 'Level3_Composite_n0r_1km_20141022_1135.gini', 'Level3_Composite_n0r_1km_20141022_0310.gini', 'Level3_Composite_n0r_1km_20141022_0905.gini', 'Level3_Composite_n0r_1km_20141022_0740.gini', 'Level3_Composite_n0r_1km_20141022_0135.gini', 'Level3_Composite_n0r_1km_20141022_0155.gini', 'Level3_Composite_n0r_1km_20141022_0745.gini', 'Level3_Composite_n0r_1km_20141022_0805.gini', 'Level3_Composite_n0r_1km_20141022_1750.gini', 'Level3_Composite_n0r_1km_20141022_1710.gini', 'Level3_Composite_n0r_1km_20141022_0635.gini', 'Level3_Composite_n0r_1km_20141022_0350.gini', 'Level3_Composite_n0r_1km_20141022_0910.gini', 'Level3_Composite_n0r_1km_20141022_1810.gini', 'Level3_Composite_n0r_1km_20141022_1525.gini', 'Level3_Composite_n0r_1km_20141022_0710.gini', 'Level3_Composite_n0r_1km_20141022_1855.gini', 'Level3_Composite_n0r_1km_20141022_1910.gini', 'Level3_Composite_n0r_1km_20141022_0325.gini', 'Level3_Composite_n0r_1km_20141022_0245.gini', 'Level3_Composite_n0r_1km_20141022_1055.gini', 'Level3_Composite_n0r_1km_20141022_1300.gini', 'Level3_Composite_n0r_1km_20141022_1015.gini', 'Level3_Composite_n0r_1km_20141022_1335.gini', 'Level3_Composite_n0r_1km_20141022_0525.gini', 'Level3_Composite_n0r_1km_20141022_1740.gini', 'Level3_Composite_n0r_1km_20141022_1235.gini', 'Level3_Composite_n0r_1km_20141022_0720.gini', 'Level3_Composite_n0r_1km_20141022_1905.gini', 'Level3_Composite_n0r_1km_20141022_1045.gini', 'Level3_Composite_n0r_1km_20141022_1200.gini', 'Level3_Composite_n0r_1km_20141022_0815.gini', 'Level3_Composite_n0r_1km_20141022_1220.gini', 'Level3_Composite_n0r_1km_20141022_1250.gini', 'Level3_Composite_n0r_1km_20141022_0110.gini', 'Level3_Composite_n0r_1km_20141022_1225.gini', 'Level3_Composite_n0r_1km_20141022_0935.gini', 'Level3_Composite_n0r_1km_20141022_0025.gini', 'Level3_Composite_n0r_1km_20141022_1545.gini', 'Level3_Composite_n0r_1km_20141022_1755.gini', 'Level3_Composite_n0r_1km_20141022_0615.gini', 'Level3_Composite_n0r_1km_20141022_1645.gini', 'Level3_Composite_n0r_1km_20141022_1635.gini', 'Level3_Composite_n0r_1km_20141022_0125.gini', 'Level3_Composite_n0r_1km_20141022_0550.gini', 'Level3_Composite_n0r_1km_20141022_0500.gini', 'Level3_Composite_n0r_1km_20141022_0040.gini', 'Level3_Composite_n0r_1km_20141022_0930.gini', 'Level3_Composite_n0r_1km_20141022_0750.gini', 'Level3_Composite_n0r_1km_20141022_1005.gini', 'Level3_Composite_n0r_1km_20141022_0335.gini', 'Level3_Composite_n0r_1km_20141022_1230.gini', 'Level3_Composite_n0r_1km_20141022_0315.gini', 'Level3_Composite_n0r_1km_20141022_1205.gini', 'Level3_Composite_n0r_1km_20141022_1735.gini', 'Level3_Composite_n0r_1km_20141022_1240.gini', 'Level3_Composite_n0r_1km_20141022_1845.gini', 'Level3_Composite_n0r_1km_20141022_1020.gini', 'Level3_Composite_n0r_1km_20141022_0120.gini', 'Level3_Composite_n0r_1km_20141022_0445.gini', 'Level3_Composite_n0r_1km_20141022_0100.gini', 'Level3_Composite_n0r_1km_20141022_0850.gini', 'Level3_Composite_n0r_1km_20141022_0925.gini', 'Level3_Composite_n0r_1km_20141022_0700.gini', 'Level3_Composite_n0r_1km_20141022_0825.gini', 'Level3_Composite_n0r_1km_20141022_0055.gini', 'Level3_Composite_n0r_1km_20141022_0820.gini', 'Level3_Composite_n0r_1km_20141022_1530.gini', 'Level3_Composite_n0r_1km_20141022_0735.gini', 'Level3_Composite_n0r_1km_20141022_0020.gini', 'Level3_Composite_n0r_1km_20141022_0430.gini', 'Level3_Composite_n0r_1km_20141022_1120.gini', 'Level3_Composite_n0r_1km_20141022_0535.gini', 'Level3_Composite_n0r_1km_20141022_0600.gini', 'Level3_Composite_n0r_1km_20141022_0650.gini', 'Level3_Composite_n0r_1km_20141022_0950.gini', 'Level3_Composite_n0r_1km_20141022_0945.gini', 'Level3_Composite_n0r_1km_20141022_1040.gini', 'Level3_Composite_n0r_1km_20141022_0305.gini', 'Level3_Composite_n0r_1km_20141022_1155.gini', 'Level3_Composite_n0r_1km_20141022_1640.gini', 'Level3_Composite_n0r_1km_20141022_0115.gini', 'Level3_Composite_n0r_1km_20141022_1030.gini', 'Level3_Composite_n0r_1km_20141022_1715.gini', 'Level3_Composite_n0r_1km_20141022_1820.gini', 'Level3_Composite_n0r_1km_20141022_1520.gini', 'Level3_Composite_n0r_1km_20141022_0140.gini', 'Level3_Composite_n0r_1km_20141022_0840.gini', 'Level3_Composite_n0r_1km_20141022_0320.gini', 'Level3_Composite_n0r_1km_20141022_0610.gini', 'Level3_Composite_n0r_1km_20141022_1100.gini', 'Level3_Composite_n0r_1km_20141022_1010.gini', 'Level3_Composite_n0r_1km_20141022_0645.gini', 'Level3_Composite_n0r_1km_20141022_0400.gini', 'Level3_Composite_n0r_1km_20141022_0540.gini', 'Level3_Composite_n0r_1km_20141022_0455.gini', 'Level3_Composite_n0r_1km_20141022_1350.gini', 'Level3_Composite_n0r_1km_20141022_1535.gini', 'Level3_Composite_n0r_1km_20141022_0545.gini', 'Level3_Composite_n0r_1km_20141022_0220.gini', 'Level3_Composite_n0r_1km_20141022_0555.gini', 'Level3_Composite_n0r_1km_20141022_0410.gini', 'Level3_Composite_n0r_1km_20141022_1730.gini', 'Level3_Composite_n0r_1km_20141022_1410.gini', 'Level3_Composite_n0r_1km_20141022_1000.gini', 'Level3_Composite_n0r_1km_20141022_0705.gini', 'Level3_Composite_n0r_1km_20141022_0340.gini', 'Level3_Composite_n0r_1km_20141022_1025.gini', 'Level3_Composite_n0r_1km_20141022_1145.gini', 'Level3_Composite_n0r_1km_20141022_1510.gini', 'Level3_Composite_n0r_1km_20141022_0145.gini', 'Level3_Composite_n0r_1km_20141022_0330.gini']\n"
       ]
      }
     ],
     "prompt_number": 5
    },
    {
     "cell_type": "code",
     "collapsed": false,
     "input": [
      "# sort, so that the last dataset is the latest\n",
      "names.sort()\n",
      "latest = names[-1]\n",
      "print latest"
     ],
     "language": "python",
     "metadata": {},
     "outputs": [
      {
       "output_type": "stream",
       "stream": "stdout",
       "text": [
        "Level3_Composite_n0r_1km_20141022_1915.gini\n"
       ]
      }
     ],
     "prompt_number": 6
    },
    {
     "cell_type": "code",
     "collapsed": false,
     "input": [
      "# Grab the dataset for the latest\n",
      "latestDs = cat.datasets[latest]"
     ],
     "language": "python",
     "metadata": {},
     "outputs": [],
     "prompt_number": 7
    },
    {
     "cell_type": "code",
     "collapsed": false,
     "input": [
      "# Construct a NetCDF dataset using the OPeNDAP access URL\n",
      "dataset = Dataset(latestDs.accessUrls['OPENDAP'])\n",
      "print dataset.variables.keys()"
     ],
     "language": "python",
     "metadata": {},
     "outputs": [
      {
       "output_type": "stream",
       "stream": "stdout",
       "text": [
        "[u'time', u'x', u'y', u'LambertConformal', u'Reflectivity']\n"
       ]
      }
     ],
     "prompt_number": 8
    },
    {
     "cell_type": "code",
     "collapsed": false,
     "input": [
      "dataset.variables['LambertConformal'].ncattrs()"
     ],
     "language": "python",
     "metadata": {},
     "outputs": [
      {
       "metadata": {},
       "output_type": "pyout",
       "prompt_number": 9,
       "text": [
        "[u'grid_mapping_name',\n",
        " u'latitude_of_projection_origin',\n",
        " u'longitude_of_central_meridian',\n",
        " u'standard_parallel',\n",
        " u'earth_radius',\n",
        " u'_CoordinateTransformType',\n",
        " u'_CoordinateAxes']"
       ]
      }
     ],
     "prompt_number": 9
    },
    {
     "cell_type": "code",
     "collapsed": false,
     "input": [
      "##################\n",
      "# Projection fun #\n",
      "##################\n",
      "\n",
      "# get basic info from the file regarding projection attributes\n",
      "# see the following for more info on projections as described here:\n",
      "#   http://www.nco.ncep.noaa.gov/pmb/docs/on388/tableb.html#GRID218\n",
      "#   http://www.wmo.int/pages/prog/www/WDM/Guides/Guide-binary-2.html [see LAMBERT CONFORMAL SECANT OR TANGENT CONE GRIDS]\n",
      "#   http://www.unidata.ucar.edu/mailing_lists/archives/netcdf-java/2006/msg00006.html [starndard parallels in CDM]\n",
      "proj = dataset.variables['LambertConformal']\n",
      "rsphere = proj.earth_radius\n",
      "\n",
      "# lat_0\t: center of desired map domain (in degrees) [Basemap]\n",
      "# CDM : 'latitude_of_projection_origin'\n",
      "lat_0 = proj.latitude_of_projection_origin\n",
      "\n",
      "# lon_0\t: center of desired map domain (in degrees) [Basemap]\n",
      "# CDM : 'longitude_of_central_meridian'\n",
      "lon_0 = proj.longitude_of_central_meridian\n",
      "\n",
      "# lat_1, lat_2 : 1st and second parallels [Basemap]\n",
      "# CDM : 'standard_parallel' - this attr contains both 1st and 2nd\n",
      "lat_1 = proj.standard_parallel\n",
      "print lat_0, lon_0, lat_1, rsphere"
     ],
     "language": "python",
     "metadata": {},
     "outputs": [
      {
       "output_type": "stream",
       "stream": "stdout",
       "text": [
        "40.0 -100.0 40.0 6371229.0\n"
       ]
      }
     ],
     "prompt_number": 10
    },
    {
     "cell_type": "heading",
     "level": 2,
     "metadata": {},
     "source": [
      "Grab the data"
     ]
    },
    {
     "cell_type": "code",
     "collapsed": false,
     "input": [
      "# Used to subset the data\n",
      "xstride = 10\n",
      "ystride = 10\n",
      "\n",
      "# download x and y coords and convert them from km to m\n",
      "x = dataset.variables['x'][::xstride] * 1000.\n",
      "y = dataset.variables['y'][::ystride] * 1000.\n",
      "\n",
      "# Grab the reflectivity data. Mask values less than -30 dBz\n",
      "data = dataset.variables[\"Reflectivity\"][0, 0::ystride, 0::xstride]\n",
      "data = np.ma.array(data, mask=data<=-30)"
     ],
     "language": "python",
     "metadata": {},
     "outputs": [],
     "prompt_number": 11
    },
    {
     "cell_type": "heading",
     "level": 2,
     "metadata": {},
     "source": [
      "Create the Plot"
     ]
    },
    {
     "cell_type": "code",
     "collapsed": false,
     "input": [
      "# Set up the projection for the LambertConformal projection we know we have\n",
      "lcc = cartopy.crs.LambertConformal(central_longitude=lon_0, central_latitude=lat_0, secant_latitudes=(lat_0, lat_1))\n",
      "\n",
      "# Create a large figure and axes with this projection\n",
      "fig = plt.figure(figsize=(24, 12))\n",
      "ax = fig.add_subplot(1, 1, 1, projection=lcc)\n",
      "\n",
      "# Limit to the bounds of the data we have\n",
      "ax.set_extent([-150., -63., 22., 70.], cartopy.crs.Geodetic())\n",
      "\n",
      "# Add some map features\n",
      "ax.stock_img()\n",
      "ax.coastlines(resolution='50m')\n",
      "ax.add_feature(cartopy.feature.NaturalEarthFeature(category='cultural', name='admin_1_states_provinces_lines', scale='50m',\n",
      "                                                   facecolor='none'))\n",
      "ax.add_feature(cartopy.feature.BORDERS, linewidth='2', edgecolor='black')\n",
      "ax.add_feature(cartopy.feature.LAKES, alpha=0.75)\n",
      "ax.gridlines()\n",
      "\n",
      "# Convert the time to text and add as the title\n",
      "time = dataset.variables[\"time\"][:][0] / 1000.\n",
      "title = dt.datetime.fromtimestamp(time).isoformat()\n",
      "ax.set_title(title)\n",
      "\n",
      "# Plot the data as an image, using the x and y values we have as the extents of the image\n",
      "# NOTE: This assumes equal-spaced points\n",
      "cmap = radar_colormap()\n",
      "norm = mpl.colors.Normalize(vmin=-35, vmax=80)\n",
      "cax = ax.imshow(data, extent=(x.min(), x.max(), y.min(), y.max()), cmap=cmap, norm=norm, origin=\"upper\",\n",
      "                transform=lcc)\n",
      "plt.colorbar(cax)"
     ],
     "language": "python",
     "metadata": {},
     "outputs": []
    },
    {
     "cell_type": "heading",
     "level": 2,
     "metadata": {},
     "source": [
      "Exercise"
     ]
    },
    {
     "cell_type": "markdown",
     "metadata": {},
     "source": [
      "Using what was done above, plot the digital hybrid reflectivity (DHR):\n",
      "- Look at http://thredds.ucar.edu/thredds/catalog/nexrad/composite/gini/catalog.html\n",
      "- Instead of plotting over all of the U.S., limit to an area of interest\n",
      "- DHR was chosen to keep the colormap from the NWS the same. Can also look at:\n",
      "    - Echo Tops (EET)\n",
      "    - Digital VIL (DVL)\n",
      "    - Others in catalog\n",
      "- ***Bonus points***: Plot the data into a new coordinate system, like Orthographic"
     ]
    },
    {
     "cell_type": "code",
     "collapsed": false,
     "input": [],
     "language": "python",
     "metadata": {},
     "outputs": []
    }
   ],
   "metadata": {}
  }
 ]
}