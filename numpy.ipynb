{
 "metadata": {
  "name": "",
  "signature": "sha256:ad485ca6d0ce5780f42972c75d4d05f82352b441189744a1918fd4c416ef3cc9"
 },
 "nbformat": 3,
 "nbformat_minor": 0,
 "worksheets": [
  {
   "cells": [
    {
     "cell_type": "heading",
     "level": 1,
     "metadata": {},
     "source": [
      "Overview"
     ]
    },
    {
     "cell_type": "markdown",
     "metadata": {},
     "source": [
      "The goal of this tutorial is to provide an overview of the use of the NumPy library. It tries to hit all of the important parts , but it is by no means comprehensive. For more information, try looking at the:\n",
      "- [Tentative NumPy Tutorial](http://wiki.scipy.org/Tentative_NumPy_Tutorial)\n",
      "- [NumPy User Guide](http://docs.scipy.org/doc/numpy/user/)\n",
      "- [Introduction to NumPy from SAM](http://www.sam.math.ethz.ch/~raoulb/teaching/PythonTutorial/intro_numpy.html)\n",
      "\n",
      "NumPy is the fundamental package for scientific computing with Python. It contains among other things:\n",
      "- a powerful N-dimensional array object\n",
      "- sophisticated (broadcasting) functions\n",
      "- tools for integrating C/C++ and Fortran code\n",
      "- useful linear algebra, Fourier transform, and random number capabilities\n",
      "\n",
      "The NumPy array object is the common interface for working with typed arrays of data across a wide-variety of scientific Python packages. NumPy also features a C-API, which enables interfacing existing Fortran/C/C++ libraries with Python and NumPy."
     ]
    },
    {
     "cell_type": "heading",
     "level": 1,
     "metadata": {},
     "source": [
      "Basic Usage"
     ]
    },
    {
     "cell_type": "markdown",
     "metadata": {},
     "source": [
      "The NumPy array represents a *contiguous* block of memory, holding entries of a given type (and hence fixed size). The entries are laid out in memory according to the shape, or list of dimension sizes."
     ]
    },
    {
     "cell_type": "code",
     "collapsed": false,
     "input": [
      "# Convention for import to get shortened namespace\n",
      "import numpy as np"
     ],
     "language": "python",
     "metadata": {},
     "outputs": [],
     "prompt_number": 3
    },
    {
     "cell_type": "code",
     "collapsed": false,
     "input": [
      "# Create a simple array from a list of integers\n",
      "a = np.array([1, 2, 3])\n",
      "a"
     ],
     "language": "python",
     "metadata": {},
     "outputs": [
      {
       "metadata": {},
       "output_type": "pyout",
       "prompt_number": 4,
       "text": [
        "array([1, 2, 3])"
       ]
      }
     ],
     "prompt_number": 4
    },
    {
     "cell_type": "code",
     "collapsed": false,
     "input": [
      "# Print out the shape attribute\n",
      "a.shape"
     ],
     "language": "python",
     "metadata": {},
     "outputs": [
      {
       "metadata": {},
       "output_type": "pyout",
       "prompt_number": 5,
       "text": [
        "(3,)"
       ]
      }
     ],
     "prompt_number": 5
    },
    {
     "cell_type": "code",
     "collapsed": false,
     "input": [
      "# And now the data type\n",
      "a.dtype"
     ],
     "language": "python",
     "metadata": {},
     "outputs": [
      {
       "metadata": {},
       "output_type": "pyout",
       "prompt_number": 6,
       "text": [
        "dtype('int64')"
       ]
      }
     ],
     "prompt_number": 6
    },
    {
     "cell_type": "code",
     "collapsed": false,
     "input": [
      "# This time use a list of floats\n",
      "a = np.array([1., 2., 3., 4., 5.])\n",
      "a"
     ],
     "language": "python",
     "metadata": {},
     "outputs": [
      {
       "metadata": {},
       "output_type": "pyout",
       "prompt_number": 7,
       "text": [
        "array([ 1.,  2.,  3.,  4.,  5.])"
       ]
      }
     ],
     "prompt_number": 7
    },
    {
     "cell_type": "code",
     "collapsed": false,
     "input": [
      "a.shape"
     ],
     "language": "python",
     "metadata": {},
     "outputs": [
      {
       "metadata": {},
       "output_type": "pyout",
       "prompt_number": 8,
       "text": [
        "(5,)"
       ]
      }
     ],
     "prompt_number": 8
    },
    {
     "cell_type": "code",
     "collapsed": false,
     "input": [
      "a.dtype"
     ],
     "language": "python",
     "metadata": {},
     "outputs": [
      {
       "metadata": {},
       "output_type": "pyout",
       "prompt_number": 9,
       "text": [
        "dtype('float64')"
       ]
      }
     ],
     "prompt_number": 9
    },
    {
     "cell_type": "markdown",
     "metadata": {},
     "source": [
      "NumPy also provides helper functions for generating arrays of data. `arange` for instance creates a range of values."
     ]
    },
    {
     "cell_type": "code",
     "collapsed": false,
     "input": [
      "a = np.arange(5)\n",
      "print a"
     ],
     "language": "python",
     "metadata": {},
     "outputs": [
      {
       "output_type": "stream",
       "stream": "stdout",
       "text": [
        "[0 1 2 3 4]\n"
       ]
      }
     ],
     "prompt_number": 10
    },
    {
     "cell_type": "code",
     "collapsed": false,
     "input": [
      "a = np.arange(1, 10, 2)\n",
      "print a"
     ],
     "language": "python",
     "metadata": {},
     "outputs": [
      {
       "output_type": "stream",
       "stream": "stdout",
       "text": [
        "[1 3 5 7 9]\n"
       ]
      }
     ],
     "prompt_number": 16
    },
    {
     "cell_type": "markdown",
     "metadata": {},
     "source": [
      "`linspace` is similar, but is used to create a linearly spaced array of values."
     ]
    },
    {
     "cell_type": "code",
     "collapsed": false,
     "input": [
      "b = np.linspace(5, 15, 5)\n",
      "print b"
     ],
     "language": "python",
     "metadata": {},
     "outputs": [
      {
       "output_type": "stream",
       "stream": "stdout",
       "text": [
        "[  5.    7.5  10.   12.5  15. ]\n"
       ]
      }
     ],
     "prompt_number": 13
    },
    {
     "cell_type": "markdown",
     "metadata": {},
     "source": [
      "NumPy also provides simple ways of performing mathematical operations. For instance, in core Python, you can do:"
     ]
    },
    {
     "cell_type": "code",
     "collapsed": false,
     "input": [
      "print [x + y for x,y in zip(a,b)]"
     ],
     "language": "python",
     "metadata": {},
     "outputs": [
      {
       "output_type": "stream",
       "stream": "stdout",
       "text": [
        "[6.0, 9.5, 13.0, 16.5, 20.0]\n"
       ]
      }
     ],
     "prompt_number": 14
    },
    {
     "cell_type": "markdown",
     "metadata": {},
     "source": [
      "Using NumPy this becomes:"
     ]
    },
    {
     "cell_type": "code",
     "collapsed": false,
     "input": [
      "a + b"
     ],
     "language": "python",
     "metadata": {},
     "outputs": [
      {
       "metadata": {},
       "output_type": "pyout",
       "prompt_number": 17,
       "text": [
        "array([  6. ,  10.5,  15. ,  19.5,  24. ])"
       ]
      }
     ],
     "prompt_number": 17
    },
    {
     "cell_type": "code",
     "collapsed": false,
     "input": [
      "a * b"
     ],
     "language": "python",
     "metadata": {},
     "outputs": [
      {
       "metadata": {},
       "output_type": "pyout",
       "prompt_number": 18,
       "text": [
        "array([   5. ,   22.5,   50. ,   87.5,  135. ])"
       ]
      }
     ],
     "prompt_number": 18
    },
    {
     "cell_type": "code",
     "collapsed": false,
     "input": [
      "t = np.arange(0, 2 * np.pi, np.pi / 4)\n",
      "t"
     ],
     "language": "python",
     "metadata": {},
     "outputs": [
      {
       "metadata": {},
       "output_type": "pyout",
       "prompt_number": 19,
       "text": [
        "array([ 0.        ,  0.78539816,  1.57079633,  2.35619449,  3.14159265,\n",
        "        3.92699082,  4.71238898,  5.49778714])"
       ]
      }
     ],
     "prompt_number": 19
    },
    {
     "cell_type": "markdown",
     "metadata": {},
     "source": [
      "NumPy also provides mathematical functions that operate on arrays:"
     ]
    },
    {
     "cell_type": "code",
     "collapsed": false,
     "input": [
      "np.sin(t)"
     ],
     "language": "python",
     "metadata": {},
     "outputs": [
      {
       "metadata": {},
       "output_type": "pyout",
       "prompt_number": 20,
       "text": [
        "array([  0.00000000e+00,   7.07106781e-01,   1.00000000e+00,\n",
        "         7.07106781e-01,   1.22464680e-16,  -7.07106781e-01,\n",
        "        -1.00000000e+00,  -7.07106781e-01])"
       ]
      }
     ],
     "prompt_number": 20
    },
    {
     "cell_type": "heading",
     "level": 1,
     "metadata": {},
     "source": [
      "Basic Plotting"
     ]
    },
    {
     "cell_type": "markdown",
     "metadata": {},
     "source": [
      "Matplotlib is a python 2D plotting library which produces publication quality figures in a variety of hardcopy formats and interactive environments across platforms."
     ]
    },
    {
     "cell_type": "code",
     "collapsed": false,
     "input": [
      "# Convention for import of the pyplot interface\n",
      "import matplotlib.pyplot as plt"
     ],
     "language": "python",
     "metadata": {},
     "outputs": [],
     "prompt_number": 21
    },
    {
     "cell_type": "code",
     "collapsed": false,
     "input": [
      "from IPython.display import display\n",
      "\n",
      "# Set-up the IPython notebook to put plots inline\n",
      "%matplotlib inline"
     ],
     "language": "python",
     "metadata": {},
     "outputs": [],
     "prompt_number": 22
    },
    {
     "cell_type": "code",
     "collapsed": false,
     "input": [
      "# Create some example data\n",
      "x = np.linspace(0, 2, 100)"
     ],
     "language": "python",
     "metadata": {},
     "outputs": [],
     "prompt_number": 23
    },
    {
     "cell_type": "code",
     "collapsed": false,
     "input": [
      "# Go ahead and explicitly create a figure and an axes\n",
      "fig = plt.figure(figsize=(8,5))\n",
      "ax = fig.add_subplot(1, 1, 1)\n",
      "\n",
      "# Plot our x variable on the x-axis and x^2 on the y-axis\n",
      "ax.plot(x, x**2)"
     ],
     "language": "python",
     "metadata": {},
     "outputs": [
      {
       "metadata": {},
       "output_type": "pyout",
       "prompt_number": 24,
       "text": [
        "[<matplotlib.lines.Line2D at 0x7f3a6e9bc410>]"
       ]
      },
      {
       "metadata": {},
       "output_type": "display_data",
       "png": "[encoded data removed]",
       "text": [
        "<matplotlib.figure.Figure at 0x7f3a6e9afdd0>"
       ]
      }
     ],
     "prompt_number": 24
    },
    {
     "cell_type": "code",
     "collapsed": false,
     "input": [
      "# Add some labels to the plot\n",
      "ax.set_xlabel('$x$')\n",
      "ax.set_ylabel('$f(x)$')\n",
      "\n",
      "# Needed to reuse and see the updated plot while using inline\n",
      "display(fig)"
     ],
     "language": "python",
     "metadata": {},
     "outputs": [
      {
       "metadata": {},
       "output_type": "display_data",
       "png": "[encoded data removed]",
       "text": [
        "<matplotlib.figure.Figure at 0x7f3a6e9afdd0>"
       ]
      }
     ],
     "prompt_number": 28
    },
    {
     "cell_type": "code",
     "collapsed": false,
     "input": [
      "# Let's add a title with a bit of latex syntax\n",
      "ax.set_title('$y = x^2$', fontdict={'size':22})\n",
      "\n",
      "display(fig)"
     ],
     "language": "python",
     "metadata": {},
     "outputs": [
      {
       "metadata": {},
       "output_type": "display_data",
       "png": "[encoded data removed]",
       "text": [
        "<matplotlib.figure.Figure at 0x7f3a6e9afdd0>"
       ]
      }
     ],
     "prompt_number": 29
    },
    {
     "cell_type": "code",
     "collapsed": false,
     "input": [
      "fig = plt.figure(figsize=(8,5))\n",
      "ax = fig.add_subplot(1, 1, 1)\n",
      "\n",
      "# Plot a set of different polynomials. The label argument is used when generating a legend.\n",
      "ax.plot(x, x, label='$x$')\n",
      "ax.plot(x, x * x, label='$x^2$')\n",
      "ax.plot(x, x**3, label='$x^3$')\n",
      "\n",
      "# Add labels and title\n",
      "ax.set_xlabel('$x$')\n",
      "ax.set_ylabel('$f(x)$')\n",
      "ax.set_title('Polynomials')\n",
      "\n",
      "# Add gridlines\n",
      "ax.grid(True)\n",
      "\n",
      "# Add a legend to the upper left corner of the plot\n",
      "ax.legend(loc='upper left')"
     ],
     "language": "python",
     "metadata": {},
     "outputs": [
      {
       "metadata": {},
       "output_type": "pyout",
       "prompt_number": 30,
       "text": [
        "<matplotlib.legend.Legend at 0x7f3a6e8d1b90>"
       ]
      },
      {
       "metadata": {},
       "output_type": "display_data",
       "png": "[encoded data removed]",
       "text": [
        "<matplotlib.figure.Figure at 0x7f3a6e850290>"
       ]
      }
     ],
     "prompt_number": 30
    },
    {
     "cell_type": "heading",
     "level": 2,
     "metadata": {},
     "source": [
      "Exercise"
     ]
    },
    {
     "cell_type": "markdown",
     "metadata": {},
     "source": [
      "Make a plot containing:\n",
      "- 3 different plots with different styles. Suggestions:\n",
      "  - sin, cos, tan\n",
      "  - exp, log\n",
      "  - sqrt\n",
      "  - Any others you want to try\n",
      "- Use labels and a legend\n",
      "- Add labels and title"
     ]
    },
    {
     "cell_type": "code",
     "collapsed": false,
     "input": [
      "x = np.linspace(-np.pi, np.pi, 100)\n",
      "\n",
      "fig = plt.figure(figsize=(8,5))\n",
      "ax = fig.add_subplot(1, 1, 1)\n",
      "\n",
      "# Plot a set of different polynomials. The label argument is used when generating a legend.\n",
      "ax.plot(x, np.sin(x), linestyle='-.', label='$\\sin(x)$')\n",
      "ax.plot(x, np.cos(x), linestyle='--', label='$\\cos(x)$')\n",
      "ax.plot(x, np.tan(x), linestyle=':', label='$\\tan(x)$')\n",
      "# Add labels and title\n",
      "ax.set_xlabel('$x$')\n",
      "ax.set_ylabel('$f(x)$')\n",
      "ax.set_title('Trig Functions')\n",
      "\n",
      "# Add gridlines\n",
      "ax.grid(True)\n",
      "ax.set_ylim([-1,1])\n",
      "ax.set_xlim(-np.pi,np.pi)\n",
      "# Add a legend to the upper left corner of the plot\n",
      "ax.legend(loc='upper left')"
     ],
     "language": "python",
     "metadata": {},
     "outputs": [
      {
       "metadata": {},
       "output_type": "pyout",
       "prompt_number": 50,
       "text": [
        "<matplotlib.legend.Legend at 0x7f3a6d9f6350>"
       ]
      },
      {
       "metadata": {},
       "output_type": "display_data",
       "png": "[encoded data removed]",
       "text": [
        "<matplotlib.figure.Figure at 0x7f3a6da51710>"
       ]
      }
     ],
     "prompt_number": 50
    },
    {
     "cell_type": "heading",
     "level": 1,
     "metadata": {},
     "source": [
      "Indexing and Slicing"
     ]
    },
    {
     "cell_type": "markdown",
     "metadata": {},
     "source": [
      "Indexing is how we pull individual data items out of an array. Slicing extends this process to pulling out a regular set of the items."
     ]
    },
    {
     "cell_type": "code",
     "collapsed": false,
     "input": [
      "# Create an array for testing\n",
      "a = np.arange(12).reshape(3, 4)"
     ],
     "language": "python",
     "metadata": {},
     "outputs": [],
     "prompt_number": 51
    },
    {
     "cell_type": "code",
     "collapsed": false,
     "input": [
      "a"
     ],
     "language": "python",
     "metadata": {},
     "outputs": [
      {
       "metadata": {},
       "output_type": "pyout",
       "prompt_number": 52,
       "text": [
        "array([[ 0,  1,  2,  3],\n",
        "       [ 4,  5,  6,  7],\n",
        "       [ 8,  9, 10, 11]])"
       ]
      }
     ],
     "prompt_number": 52
    },
    {
     "cell_type": "markdown",
     "metadata": {},
     "source": [
      "Indexing in Python is 0-based, so the command below looks for the 2nd item along the first dimension and the 3rd along the second dimension."
     ]
    },
    {
     "cell_type": "code",
     "collapsed": false,
     "input": [
      "a[1, 2]"
     ],
     "language": "python",
     "metadata": {},
     "outputs": [
      {
       "metadata": {},
       "output_type": "pyout",
       "prompt_number": 53,
       "text": [
        "6"
       ]
      }
     ],
     "prompt_number": 53
    },
    {
     "cell_type": "markdown",
     "metadata": {},
     "source": [
      "Can also just index on one dimension"
     ]
    },
    {
     "cell_type": "code",
     "collapsed": false,
     "input": [
      "a[2]"
     ],
     "language": "python",
     "metadata": {},
     "outputs": [
      {
       "metadata": {},
       "output_type": "pyout",
       "prompt_number": 54,
       "text": [
        "array([ 8,  9, 10, 11])"
       ]
      }
     ],
     "prompt_number": 54
    },
    {
     "cell_type": "markdown",
     "metadata": {},
     "source": [
      "Negative indices are also allowed, which permit indexing relative to the end of the array."
     ]
    },
    {
     "cell_type": "code",
     "collapsed": false,
     "input": [
      "a[0, -1]"
     ],
     "language": "python",
     "metadata": {},
     "outputs": [
      {
       "metadata": {},
       "output_type": "pyout",
       "prompt_number": 55,
       "text": [
        "3"
       ]
      }
     ],
     "prompt_number": 55
    },
    {
     "cell_type": "markdown",
     "metadata": {},
     "source": [
      "Slicing syntax is written as `start:stop[:step]`, where all numbers are optional. Start defaults to 0, end to len(dim), and step to 1. The second colon is also optional if no step is used. It should be noted that end represents one past the last item; one can also think of it as a half open interval: `[start, end)`"
     ]
    },
    {
     "cell_type": "code",
     "collapsed": false,
     "input": [
      "a[1:3]"
     ],
     "language": "python",
     "metadata": {},
     "outputs": [
      {
       "metadata": {},
       "output_type": "pyout",
       "prompt_number": 56,
       "text": [
        "array([[ 4,  5,  6,  7],\n",
        "       [ 8,  9, 10, 11]])"
       ]
      }
     ],
     "prompt_number": 56
    },
    {
     "cell_type": "code",
     "collapsed": false,
     "input": [
      "a[::2, ::2]"
     ],
     "language": "python",
     "metadata": {},
     "outputs": [
      {
       "metadata": {},
       "output_type": "pyout",
       "prompt_number": 57,
       "text": [
        "array([[ 0,  2],\n",
        "       [ 8, 10]])"
       ]
      }
     ],
     "prompt_number": 57
    },
    {
     "cell_type": "code",
     "collapsed": false,
     "input": [
      "a[:, 2]"
     ],
     "language": "python",
     "metadata": {},
     "outputs": [
      {
       "metadata": {},
       "output_type": "pyout",
       "prompt_number": 58,
       "text": [
        "array([ 2,  6, 10])"
       ]
      }
     ],
     "prompt_number": 58
    },
    {
     "cell_type": "code",
     "collapsed": false,
     "input": [
      "# ... can be used to replace one or more full slices\n",
      "a[..., 2]"
     ],
     "language": "python",
     "metadata": {},
     "outputs": [
      {
       "metadata": {},
       "output_type": "pyout",
       "prompt_number": 59,
       "text": [
        "array([ 2,  6, 10])"
       ]
      }
     ],
     "prompt_number": 59
    },
    {
     "cell_type": "heading",
     "level": 2,
     "metadata": {},
     "source": [
      "Exercises"
     ]
    },
    {
     "cell_type": "markdown",
     "metadata": {},
     "source": [
      "Using the data below, write code to solve the commented problems."
     ]
    },
    {
     "cell_type": "code",
     "collapsed": false,
     "input": [
      "a = np.arange(60).reshape(3, 4, 5)"
     ],
     "language": "python",
     "metadata": {},
     "outputs": [],
     "prompt_number": 60
    },
    {
     "cell_type": "code",
     "collapsed": false,
     "input": [
      "a"
     ],
     "language": "python",
     "metadata": {},
     "outputs": [
      {
       "metadata": {},
       "output_type": "pyout",
       "prompt_number": 61,
       "text": [
        "array([[[ 0,  1,  2,  3,  4],\n",
        "        [ 5,  6,  7,  8,  9],\n",
        "        [10, 11, 12, 13, 14],\n",
        "        [15, 16, 17, 18, 19]],\n",
        "\n",
        "       [[20, 21, 22, 23, 24],\n",
        "        [25, 26, 27, 28, 29],\n",
        "        [30, 31, 32, 33, 34],\n",
        "        [35, 36, 37, 38, 39]],\n",
        "\n",
        "       [[40, 41, 42, 43, 44],\n",
        "        [45, 46, 47, 48, 49],\n",
        "        [50, 51, 52, 53, 54],\n",
        "        [55, 56, 57, 58, 59]]])"
       ]
      }
     ],
     "prompt_number": 61
    },
    {
     "cell_type": "code",
     "collapsed": false,
     "input": [
      "# Decimate the data by a factor of 3 along all dimensions\n",
      "a[::3,::3,::3]"
     ],
     "language": "python",
     "metadata": {},
     "outputs": [
      {
       "metadata": {},
       "output_type": "pyout",
       "prompt_number": 63,
       "text": [
        "array([[[ 0,  3],\n",
        "        [15, 18]]])"
       ]
      }
     ],
     "prompt_number": 63
    },
    {
     "cell_type": "code",
     "collapsed": false,
     "input": [
      "# Pull out the 2nd 4x5 slice\n",
      "a[1]"
     ],
     "language": "python",
     "metadata": {},
     "outputs": [
      {
       "metadata": {},
       "output_type": "pyout",
       "prompt_number": 64,
       "text": [
        "array([[20, 21, 22, 23, 24],\n",
        "       [25, 26, 27, 28, 29],\n",
        "       [30, 31, 32, 33, 34],\n",
        "       [35, 36, 37, 38, 39]])"
       ]
      }
     ],
     "prompt_number": 64
    },
    {
     "cell_type": "code",
     "collapsed": false,
     "input": [
      "# Grab the last column from all dimensions (result should be 3x4)\n",
      "a[...,-1]"
     ],
     "language": "python",
     "metadata": {},
     "outputs": [
      {
       "metadata": {},
       "output_type": "pyout",
       "prompt_number": 65,
       "text": [
        "array([[ 4,  9, 14, 19],\n",
        "       [24, 29, 34, 39],\n",
        "       [44, 49, 54, 59]])"
       ]
      }
     ],
     "prompt_number": 65
    },
    {
     "cell_type": "heading",
     "level": 1,
     "metadata": {},
     "source": [
      "Broadcasting"
     ]
    },
    {
     "cell_type": "markdown",
     "metadata": {},
     "source": [
      "\"The term broadcasting describes how numpy treats arrays with different shapes during arithmetic operations. Subject to certain constraints, the smaller array is \u201cbroadcast\u201d across the larger array so that they have compatible shapes. Broadcasting provides a means of vectorizing array operations so that looping occurs in C instead of Python. It does this without making needless copies of data and usually leads to efficient algorithm implementations. There are, however, cases where broadcasting is a bad idea because it leads to inefficient use of memory that slows computation.\" (NumPy User Guide)"
     ]
    },
    {
     "cell_type": "code",
     "collapsed": false,
     "input": [
      "# Create some test data\n",
      "a = np.linspace(0, np.pi, 4)\n",
      "a"
     ],
     "language": "python",
     "metadata": {},
     "outputs": [
      {
       "metadata": {},
       "output_type": "pyout",
       "prompt_number": 66,
       "text": [
        "array([ 0.        ,  1.04719755,  2.0943951 ,  3.14159265])"
       ]
      }
     ],
     "prompt_number": 66
    },
    {
     "cell_type": "markdown",
     "metadata": {},
     "source": [
      "NumPy can perform operations between arrays and constants:"
     ]
    },
    {
     "cell_type": "code",
     "collapsed": false,
     "input": [
      "a * 2"
     ],
     "language": "python",
     "metadata": {},
     "outputs": [
      {
       "metadata": {},
       "output_type": "pyout",
       "prompt_number": 67,
       "text": [
        "array([ 0.        ,  2.0943951 ,  4.1887902 ,  6.28318531])"
       ]
      }
     ],
     "prompt_number": 67
    },
    {
     "cell_type": "markdown",
     "metadata": {},
     "source": [
      "This extends to operations between arrays of different sizes:"
     ]
    },
    {
     "cell_type": "code",
     "collapsed": false,
     "input": [
      "a * np.array([2])"
     ],
     "language": "python",
     "metadata": {},
     "outputs": [
      {
       "metadata": {},
       "output_type": "pyout",
       "prompt_number": 68,
       "text": [
        "array([ 0.        ,  2.0943951 ,  4.1887902 ,  6.28318531])"
       ]
      }
     ],
     "prompt_number": 68
    },
    {
     "cell_type": "code",
     "collapsed": false,
     "input": [
      "b = np.linspace(0, 50, 5)"
     ],
     "language": "python",
     "metadata": {},
     "outputs": [],
     "prompt_number": 69
    },
    {
     "cell_type": "code",
     "collapsed": false,
     "input": [
      "print a.shape\n",
      "print b.shape"
     ],
     "language": "python",
     "metadata": {},
     "outputs": [
      {
       "output_type": "stream",
       "stream": "stdout",
       "text": [
        "(4,)\n",
        "(5,)\n"
       ]
      }
     ],
     "prompt_number": 70
    },
    {
     "cell_type": "code",
     "collapsed": false,
     "input": [
      "# This will not work, however, because the array sizes cannot be rectified\n",
      "a * b"
     ],
     "language": "python",
     "metadata": {},
     "outputs": [
      {
       "ename": "ValueError",
       "evalue": "operands could not be broadcast together with shapes (4,) (5,) ",
       "output_type": "pyerr",
       "traceback": [
        "\u001b[1;31m---------------------------------------------------------------------------\u001b[0m\n\u001b[1;31mValueError\u001b[0m                                Traceback (most recent call last)",
        "\u001b[1;32m<ipython-input-71-604bc6fed482>\u001b[0m in \u001b[0;36m<module>\u001b[1;34m()\u001b[0m\n\u001b[0;32m      1\u001b[0m \u001b[1;31m# This will not work, however, because the array sizes cannot be rectified\u001b[0m\u001b[1;33m\u001b[0m\u001b[1;33m\u001b[0m\u001b[0m\n\u001b[1;32m----> 2\u001b[1;33m \u001b[0ma\u001b[0m \u001b[1;33m*\u001b[0m \u001b[0mb\u001b[0m\u001b[1;33m\u001b[0m\u001b[0m\n\u001b[0m",
        "\u001b[1;31mValueError\u001b[0m: operands could not be broadcast together with shapes (4,) (5,) "
       ]
      }
     ],
     "prompt_number": 71
    },
    {
     "cell_type": "markdown",
     "metadata": {},
     "source": [
      "Broadcasting works by:\n",
      "1. Make the arrays have the same number of dimensions. If they are different, size-1 dimensions are *prepended* implicitly\n",
      "2. Check that each dimension is compatible--that they are the same or one of them is 1"
     ]
    },
    {
     "cell_type": "code",
     "collapsed": false,
     "input": [
      "# If we add a size-1 dimension to a they can be rectified. The process of broadcasting will implicitly add a \n",
      "a = a.reshape((-1, 1))\n",
      "print a.shape"
     ],
     "language": "python",
     "metadata": {},
     "outputs": [
      {
       "output_type": "stream",
       "stream": "stdout",
       "text": [
        "(4, 1)\n"
       ]
      }
     ],
     "prompt_number": 72
    },
    {
     "cell_type": "code",
     "collapsed": false,
     "input": [
      "result = a * b\n",
      "result"
     ],
     "language": "python",
     "metadata": {},
     "outputs": [
      {
       "metadata": {},
       "output_type": "pyout",
       "prompt_number": 73,
       "text": [
        "array([[   0.        ,    0.        ,    0.        ,    0.        ,    0.        ],\n",
        "       [   0.        ,   13.08996939,   26.17993878,   39.26990817,\n",
        "          52.35987756],\n",
        "       [   0.        ,   26.17993878,   52.35987756,   78.53981634,\n",
        "         104.71975512],\n",
        "       [   0.        ,   39.26990817,   78.53981634,  117.80972451,\n",
        "         157.07963268]])"
       ]
      }
     ],
     "prompt_number": 73
    },
    {
     "cell_type": "code",
     "collapsed": false,
     "input": [
      "result.shape"
     ],
     "language": "python",
     "metadata": {},
     "outputs": [
      {
       "metadata": {},
       "output_type": "pyout",
       "prompt_number": 74,
       "text": [
        "(4, 5)"
       ]
      }
     ],
     "prompt_number": 74
    },
    {
     "cell_type": "heading",
     "level": 2,
     "metadata": {},
     "source": [
      "Exercise"
     ]
    },
    {
     "cell_type": "markdown",
     "metadata": {},
     "source": [
      "Create a 1D array of 100 x values between -3 and 3, and a 1D array of 150 y values between -5 and 5. Use these to calculate an array of radius values.\n",
      "\n",
      "Radius can be calculated as:\n",
      "$r = \\sqrt{x^2 + y^2}$"
     ]
    },
    {
     "cell_type": "code",
     "collapsed": false,
     "input": [
      "x=np.linspace(-4,4,100)\n",
      "y=np.linspace(-3,3,150)\n",
      "x=x.reshape((-1,1))\n",
      "print x.shape\n",
      "print y.shape\n",
      "r = np.sqrt(x*x+y*y)\n",
      "print r\n",
      "plt.contour(r)\n"
     ],
     "language": "python",
     "metadata": {},
     "outputs": [
      {
       "output_type": "stream",
       "stream": "stdout",
       "text": [
        "(100, 1)\n",
        "(150,)\n",
        "[[ 5.          4.97594321  4.952097   ...,  4.952097    4.97594321  5.        ]\n",
        " [ 4.93559169  4.91121941  4.8870574  ...,  4.8870574   4.91121941\n",
        "   4.93559169]\n",
        " [ 4.87167225  4.84697857  4.82249471 ...,  4.82249471  4.84697857\n",
        "   4.87167225]\n",
        " ..., \n",
        " [ 4.87167225  4.84697857  4.82249471 ...,  4.82249471  4.84697857\n",
        "   4.87167225]\n",
        " [ 4.93559169  4.91121941  4.8870574  ...,  4.8870574   4.91121941\n",
        "   4.93559169]\n",
        " [ 5.          4.97594321  4.952097   ...,  4.952097    4.97594321  5.        ]]\n"
       ]
      },
      {
       "metadata": {},
       "output_type": "pyout",
       "prompt_number": 83,
       "text": [
        "<matplotlib.contour.QuadContourSet instance at 0x7f3a6d4f16c8>"
       ]
      },
      {
       "metadata": {},
       "output_type": "display_data",
       "png": "[encoded data removed]",
       "text": [
        "<matplotlib.figure.Figure at 0x7f3a6d51e1d0>"
       ]
      }
     ],
     "prompt_number": 83
    },
    {
     "cell_type": "heading",
     "level": 1,
     "metadata": {},
     "source": [
      "Logical Indexing"
     ]
    },
    {
     "cell_type": "markdown",
     "metadata": {},
     "source": [
      "Logical indexing allows selecting elements from an array using a second array of `True` and `False` values."
     ]
    },
    {
     "cell_type": "code",
     "collapsed": false,
     "input": [
      "# Create some synthetic data representing temperature and wind speed data\n",
      "temp = 20 * np.cos(np.linspace(0, 2 * np.pi, 100)) + 40 + 2 * np.random.randn(100)\n",
      "spd = np.abs(10 * np.sin(np.linspace(0, 2 * np.pi, 100)) + 10 + 5 * np.random.randn(100))"
     ],
     "language": "python",
     "metadata": {},
     "outputs": [],
     "prompt_number": 101
    },
    {
     "cell_type": "code",
     "collapsed": false,
     "input": [
      "plt.plot(temp)\n",
      "plt.plot(spd)"
     ],
     "language": "python",
     "metadata": {},
     "outputs": [
      {
       "metadata": {},
       "output_type": "pyout",
       "prompt_number": 102,
       "text": [
        "[<matplotlib.lines.Line2D at 0x7f3a6e1a9f50>]"
       ]
      },
      {
       "metadata": {},
       "output_type": "display_data",
       "png": "[encoded data removed]",
       "text": [
        "<matplotlib.figure.Figure at 0x7f3a6e1a95d0>"
       ]
      }
     ],
     "prompt_number": 102
    },
    {
     "cell_type": "code",
     "collapsed": false,
     "input": [
      "# By doing a comparision between a NumPy array and a value, we get an\n",
      "# array of values representing the results of the comparison between\n",
      "# each element and the value\n",
      "temp > 50"
     ],
     "language": "python",
     "metadata": {},
     "outputs": [
      {
       "metadata": {},
       "output_type": "pyout",
       "prompt_number": 103,
       "text": [
        "array([ True,  True,  True,  True,  True,  True,  True,  True,  True,\n",
        "        True,  True,  True,  True,  True,  True,  True,  True, False,\n",
        "       False, False, False, False, False, False, False, False, False,\n",
        "       False, False, False, False, False, False, False, False, False,\n",
        "       False, False, False, False, False, False, False, False, False,\n",
        "       False, False, False, False, False, False, False, False, False,\n",
        "       False, False, False, False, False, False, False, False, False,\n",
        "       False, False, False, False, False, False, False, False, False,\n",
        "       False, False, False, False, False, False, False, False, False,\n",
        "       False, False, False, False, False,  True,  True,  True,  True,\n",
        "        True,  True,  True,  True,  True,  True,  True,  True,  True,  True], dtype=bool)"
       ]
      }
     ],
     "prompt_number": 103
    },
    {
     "cell_type": "code",
     "collapsed": false,
     "input": [
      "# We can take the resulting array and use this to index into the NumPy\n",
      "# array and retrieve the values where the result was true\n",
      "temp[temp > 50]"
     ],
     "language": "python",
     "metadata": {},
     "outputs": [
      {
       "metadata": {},
       "output_type": "pyout",
       "prompt_number": 104,
       "text": [
        "array([ 59.42444837,  61.64714679,  61.35149213,  61.48053466,\n",
        "        61.19644994,  62.47046726,  55.06755295,  58.48193937,\n",
        "        57.77297698,  55.95662137,  57.2269936 ,  55.76972621,\n",
        "        54.36139994,  50.27487473,  53.71066187,  50.1989584 ,\n",
        "        51.01499194,  52.50612701,  53.02909429,  54.43360674,\n",
        "        55.72042164,  58.39368928,  55.3201436 ,  55.3822885 ,\n",
        "        59.56028758,  57.73265573,  59.96656118,  61.36658965,\n",
        "        60.35353272,  59.67503676,  58.53519802])"
       ]
      }
     ],
     "prompt_number": 104
    },
    {
     "cell_type": "code",
     "collapsed": false,
     "input": [
      "# So long as the size of the boolean array matches the data, the\n",
      "# boolean array can come from anywhere\n",
      "temp[spd > 10]"
     ],
     "language": "python",
     "metadata": {},
     "outputs": [
      {
       "metadata": {},
       "output_type": "pyout",
       "prompt_number": 105,
       "text": [
        "array([ 59.42444837,  61.64714679,  61.35149213,  61.19644994,\n",
        "        55.06755295,  58.48193937,  57.77297698,  57.2269936 ,\n",
        "        55.76972621,  50.27487473,  53.71066187,  51.01499194,\n",
        "        49.78008506,  47.22197249,  48.23295801,  45.57181763,\n",
        "        44.06067511,  44.45313021,  42.04263822,  38.89288398,\n",
        "        40.11363168,  41.69068989,  37.13536819,  34.38824672,\n",
        "        33.06861315,  33.24316158,  31.6317306 ,  33.91560107,\n",
        "        33.7286235 ,  26.00306221,  26.50794487,  29.00478445,\n",
        "        28.80671874,  23.24104732,  26.70879568,  22.81576051,\n",
        "        22.37330902,  20.20669333,  18.36953759,  19.09573983,\n",
        "        14.85452716,  18.60733013,  19.77232988,  18.61952613,\n",
        "        17.78477405,  55.3822885 ])"
       ]
      }
     ],
     "prompt_number": 105
    },
    {
     "cell_type": "code",
     "collapsed": false,
     "input": [
      "# Make a copy so we don't modify the original data\n",
      "temp2 = temp.copy()\n",
      "\n",
      "# Replace all places where spd is <10 with 0.\n",
      "temp2[spd < 10] = 0\n",
      "plt.plot(temp2)"
     ],
     "language": "python",
     "metadata": {},
     "outputs": [
      {
       "metadata": {},
       "output_type": "pyout",
       "prompt_number": 106,
       "text": [
        "[<matplotlib.lines.Line2D at 0x7f3a672b1490>]"
       ]
      },
      {
       "metadata": {},
       "output_type": "display_data",
       "png": "[encoded data removed]",
       "text": [
        "<matplotlib.figure.Figure at 0x7f3a6e365890>"
       ]
      }
     ],
     "prompt_number": 106
    },
    {
     "cell_type": "code",
     "collapsed": false,
     "input": [
      "# Can also combine multiple boolean arrays using the syntax for bitwise operations\n",
      "# *MUST HAVE PARENTHESES* due to operator precedence\n",
      "temp[(temp < 45) & (spd > 10)]"
     ],
     "language": "python",
     "metadata": {},
     "outputs": [
      {
       "metadata": {},
       "output_type": "pyout",
       "prompt_number": 107,
       "text": [
        "array([ 44.06067511,  44.45313021,  42.04263822,  38.89288398,\n",
        "        40.11363168,  41.69068989,  37.13536819,  34.38824672,\n",
        "        33.06861315,  33.24316158,  31.6317306 ,  33.91560107,\n",
        "        33.7286235 ,  26.00306221,  26.50794487,  29.00478445,\n",
        "        28.80671874,  23.24104732,  26.70879568,  22.81576051,\n",
        "        22.37330902,  20.20669333,  18.36953759,  19.09573983,\n",
        "        14.85452716,  18.60733013,  19.77232988,  18.61952613,  17.78477405])"
       ]
      }
     ],
     "prompt_number": 107
    },
    {
     "cell_type": "heading",
     "level": 1,
     "metadata": {},
     "source": [
      "Masked Arrays"
     ]
    },
    {
     "cell_type": "markdown",
     "metadata": {},
     "source": [
      "Masked arrays are a specialization of NumPy arrays to handle flagging individual elements as masked. This allows elminating values from plots and from computations."
     ]
    },
    {
     "cell_type": "code",
     "collapsed": false,
     "input": [
      "# Create a masked array of temperature, masking values where speed is < 10\n",
      "temp_masked = np.ma.array(temp, mask=spd < 10)"
     ],
     "language": "python",
     "metadata": {},
     "outputs": [],
     "prompt_number": 108
    },
    {
     "cell_type": "code",
     "collapsed": false,
     "input": [
      "temp_masked"
     ],
     "language": "python",
     "metadata": {},
     "outputs": [
      {
       "metadata": {},
       "output_type": "pyout",
       "prompt_number": 109,
       "text": [
        "masked_array(data = [59.42444836812698 61.647146788541185 61.351492129491895 --\n",
        " 61.19644994417541 -- 55.067552946947366 58.48193936631416\n",
        " 57.772976984434486 -- 57.22699360480035 55.76972620697436 --\n",
        " 50.27487472987815 53.71066187297838 -- 51.014991935346295\n",
        " 49.78008506171338 47.22197248566054 48.23295801216352 45.57181763485651\n",
        " 44.06067510963942 44.453130212110786 42.04263822364837 38.89288397981801\n",
        " 40.11363168125501 41.69068988525835 37.135368185648474 34.388246722270274\n",
        " 33.06861314971794 33.243161580866015 31.631730599370528 33.915601067425776\n",
        " 33.72862349524972 26.003062212950642 26.507944867399658 29.004784450980896\n",
        " 28.806718741523476 23.241047316652814 26.70879567664648 22.815760514649547\n",
        " 22.37330901876795 20.206693330881958 -- 18.369537587169766 --\n",
        " 19.09573982904288 14.854527155829832 18.60733012935698 19.77232988163956\n",
        " 18.619526127485546 -- 17.784774049170263 -- -- -- -- -- -- -- -- -- -- --\n",
        " -- -- -- -- -- -- -- -- -- -- -- -- -- -- -- -- -- -- -- -- -- -- -- -- --\n",
        " -- -- -- 55.38228850011238 -- -- -- -- -- -- --],\n",
        "             mask = [False False False  True False  True False False False  True False False\n",
        "  True False False  True False False False False False False False False\n",
        " False False False False False False False False False False False False\n",
        " False False False False False False False  True False  True False False\n",
        " False False False  True False  True  True  True  True  True  True  True\n",
        "  True  True  True  True  True  True  True  True  True  True  True  True\n",
        "  True  True  True  True  True  True  True  True  True  True  True  True\n",
        "  True  True  True  True  True  True  True  True False  True  True  True\n",
        "  True  True  True  True],\n",
        "       fill_value = 1e+20)"
       ]
      }
     ],
     "prompt_number": 109
    },
    {
     "cell_type": "code",
     "collapsed": false,
     "input": [
      "plt.plot(temp_masked)"
     ],
     "language": "python",
     "metadata": {},
     "outputs": [
      {
       "metadata": {},
       "output_type": "pyout",
       "prompt_number": 110,
       "text": [
        "[<matplotlib.lines.Line2D at 0x7f3a671dbdd0>]"
       ]
      },
      {
       "metadata": {},
       "output_type": "display_data",
       "png": "[encoded data removed]",
       "text": [
        "<matplotlib.figure.Figure at 0x7f3a672e8490>"
       ]
      }
     ],
     "prompt_number": 110
    },
    {
     "cell_type": "code",
     "collapsed": false,
     "input": [
      "# Masked values can be set after array creation by setting the corresponding value to the special value of ma.masked\n",
      "temp_masked[temp_masked > 45] = np.ma.masked"
     ],
     "language": "python",
     "metadata": {},
     "outputs": [],
     "prompt_number": 111
    },
    {
     "cell_type": "code",
     "collapsed": false,
     "input": [
      "temp_masked"
     ],
     "language": "python",
     "metadata": {},
     "outputs": [
      {
       "metadata": {},
       "output_type": "pyout",
       "prompt_number": 112,
       "text": [
        "masked_array(data = [-- -- -- -- -- -- -- -- -- -- -- -- -- -- -- -- -- -- -- -- --\n",
        " 44.06067510963942 44.453130212110786 42.04263822364837 38.89288397981801\n",
        " 40.11363168125501 41.69068988525835 37.135368185648474 34.388246722270274\n",
        " 33.06861314971794 33.243161580866015 31.631730599370528 33.915601067425776\n",
        " 33.72862349524972 26.003062212950642 26.507944867399658 29.004784450980896\n",
        " 28.806718741523476 23.241047316652814 26.70879567664648 22.815760514649547\n",
        " 22.37330901876795 20.206693330881958 -- 18.369537587169766 --\n",
        " 19.09573982904288 14.854527155829832 18.60733012935698 19.77232988163956\n",
        " 18.619526127485546 -- 17.784774049170263 -- -- -- -- -- -- -- -- -- -- --\n",
        " -- -- -- -- -- -- -- -- -- -- -- -- -- -- -- -- -- -- -- -- -- -- -- -- --\n",
        " -- -- -- -- -- -- -- -- -- -- --],\n",
        "             mask = [ True  True  True  True  True  True  True  True  True  True  True  True\n",
        "  True  True  True  True  True  True  True  True  True False False False\n",
        " False False False False False False False False False False False False\n",
        " False False False False False False False  True False  True False False\n",
        " False False False  True False  True  True  True  True  True  True  True\n",
        "  True  True  True  True  True  True  True  True  True  True  True  True\n",
        "  True  True  True  True  True  True  True  True  True  True  True  True\n",
        "  True  True  True  True  True  True  True  True  True  True  True  True\n",
        "  True  True  True  True],\n",
        "       fill_value = 1e+20)"
       ]
      }
     ],
     "prompt_number": 112
    },
    {
     "cell_type": "code",
     "collapsed": false,
     "input": [
      "plt.plot(np.arange(temp_masked.size), temp_masked)\n",
      "\n",
      "# Set plot limits to the same as before\n",
      "plt.xlim(0, 100)\n",
      "plt.ylim(0, 65)"
     ],
     "language": "python",
     "metadata": {},
     "outputs": [
      {
       "metadata": {},
       "output_type": "pyout",
       "prompt_number": 113,
       "text": [
        "(0, 65)"
       ]
      },
      {
       "metadata": {},
       "output_type": "display_data",
       "png": "[encoded data removed]",
       "text": [
        "<matplotlib.figure.Figure at 0x7f3a672129d0>"
       ]
      }
     ],
     "prompt_number": 113
    },
    {
     "cell_type": "heading",
     "level": 2,
     "metadata": {},
     "source": [
      "Exercise"
     ]
    },
    {
     "cell_type": "markdown",
     "metadata": {},
     "source": [
      "Currently, the integral in the code below results in a bad value. Using masked arrays, fix this so that the integral returns the proper value of `2.393`.\n",
      "\n",
      "Hint: look at `np.isnan()`"
     ]
    },
    {
     "cell_type": "code",
     "collapsed": false,
     "input": [
      "t = np.linspace(0, 2*np.pi, 200)\n",
      "x = np.sqrt(np.sin(t))\n",
      "mx = np.ma.array(x, mask=x==np.nan)\n",
      "print np.trapz(mx, t)"
     ],
     "language": "python",
     "metadata": {},
     "outputs": [
      {
       "output_type": "stream",
       "stream": "stdout",
       "text": [
        "2.39347224132\n"
       ]
      }
     ],
     "prompt_number": 115
    },
    {
     "cell_type": "code",
     "collapsed": false,
     "input": [],
     "language": "python",
     "metadata": {},
     "outputs": [],
     "prompt_number": 114
    },
    {
     "cell_type": "code",
     "collapsed": false,
     "input": [],
     "language": "python",
     "metadata": {},
     "outputs": []
    }
   ],
   "metadata": {}
  }
 ]
}